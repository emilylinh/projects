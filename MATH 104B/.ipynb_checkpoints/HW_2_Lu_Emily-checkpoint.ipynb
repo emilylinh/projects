{
 "cells": [
  {
   "cell_type": "markdown",
   "metadata": {},
   "source": [
    "# <center> MATH 104B - Homework 2 \n",
    "#### <center>By Emily Lu (Perm ID: 4707147)"
   ]
  },
  {
   "cell_type": "markdown",
   "metadata": {},
   "source": [
    "(Section 5.1)"
   ]
  },
  {
   "cell_type": "markdown",
   "metadata": {},
   "source": [
    "1\\. Use Theorem 5.4 to show that each of the following initial-value problems has a unique solution and\n",
    "find the solution."
   ]
  },
  {
   "cell_type": "markdown",
   "metadata": {},
   "source": [
    "$\\;\\;\\;\\;$ a. $y' = y\\cos t, \\; 0\\leq t \\leq 1, \\; y(0) = 1.$"
   ]
  },
  {
   "cell_type": "markdown",
   "metadata": {},
   "source": [
    "$\\;\\;\\;\\;$ _Sol._ Holding $t$ constant and applying the Mean Value Theorem to the function $$f(t,y) = y\\cos t,$$ we find that when $y_1 < y_2$, a number $\\xi$ in $(y_1,y_2)$ exists with $$\\frac{f(t,y_2)-f(t,y_1)}{y_2-y_1}=\\frac{\\partial}{\\partial y}f(t,\\xi) = \\cos(t).$$ Thus, $$|f(t,y_2)-f(t,y_1)| = |y_2-y_1||\\cos(t)|\\leq 1|y_2-y_1|,$$ with $L=1$ since $\\cos t$ has a maximum at 1 for $0\\leq t \\leq 1$, and $f$ satisfies a Lipschitz condition in the variable $y$ with Lipschitz constant $L=1$. Additionally, $f(t,y)$ is continuous when $0\\leq t \\leq 1$ and $-\\infty < y < \\infty,$ therefore Theorem 5.4 implies that a unique solution exists to this initial-value problem. \n",
    "\n",
    "Exact solution: $$\\begin{eqnarray} &y'&=y\\cos t \\\\ &\\Longrightarrow& \\frac{dy}{dt} = y\\cos t \\\\ &\\Longrightarrow& \\frac{dy}{y} = \\cos t dt  \\\\ &\\Longrightarrow& \\int \\frac{dy}{y} = \\int \\cos t dt \\\\ &\\Longrightarrow& \\ln y = \\sin t + c \\\\ &\\Longrightarrow& y = e^{\\sin t + c}, \\end{eqnarray}$$  Plugging in $y(0) = 1$ would give us $1 = e^{0+ c} \\Longleftrightarrow c = 0$. Therefore, $y=e^{\\sin t}$."
   ]
  },
  {
   "cell_type": "markdown",
   "metadata": {},
   "source": [
    "$\\;\\;\\;\\;$ c\\. $y' = -\\frac{2}{t} y + t^2 e^t,\\; 1\\leq t \\leq 2, \\; y(1) =\\sqrt{2}e.$"
   ]
  },
  {
   "cell_type": "markdown",
   "metadata": {},
   "source": [
    "$\\;\\;\\;\\;$ _Sol._ Holding $t$ constant and applying the Mean Value Theorem to $$f(t,y) =  -\\frac{2}{t} y + t^2 e^t,$$ we find that when $y_1 < y_2$, a number $\\xi$ in $(y_1,y_2)$ exists with $$\\frac{f(t,y_2)-f(t,y_1)}{y_2-y_1} = \\frac{\\partial}{\\partial y}f(t,\\xi) = -\\frac{2}{t}.$$ Thus, $$|f(t,y_2) - f(t,y_1)| = |y_2 - y_1||\\frac{2}{t}|\\leq 1|y_2-y_1|,$$ and $f$ satisfies a Lipschitz condition in the variable $y$ with Lipschitz constant $L=1$. Additionally, $f(t,y)$ is continuous when $1\\leq t \\leq 2$ and $-\\infty < y < \\infty$, so Theorem 5.4 implies that a unique solution exists to this initial-value problem. \n",
    "\n",
    "Exact solution: $$\\begin{eqnarray} &y'&= -\\frac{2}{t} y + t^2 e^t \\\\ &\\Longrightarrow& \\frac{dy}{dt} + \\frac{2}{t} y =  t^2 e^t, \\end{eqnarray}$$ which is a first order ODE of the standard form $$ \\frac{dy}{dt} + p(t)y = g(t)$$ with an integrating factor of $u(t)= e^{\\int p(t)dt}$. Multiplying the left side of the standard form by $u(t)$ gives us the product rule of $(u(t)y)'$ which gives the general solution of $$y = \\frac{\\int u(t)g(t)dt + C}{u(t)}.$$  For this particular solution, the integrating factor is $$u(t) = e^{\\int \\frac{2}{t}dt} = e^{\\ln t^2} = t^2,$$ so $$\\begin{eqnarray} t^2y + C &=& \\int t^4 e^t dt \\\\ &=& t^4e^t - 4t^3e^t + 12t^2e^t - 24te^t + 24e^t \\\\ \\Longleftrightarrow y &=& \\frac{t^4e^t - 4t^3e^t + 12t^2e^t - 24te^t + 24e^t - C}{t^2}. \\end{eqnarray}$$ Plugging in $y(1) =\\sqrt{2}e$ gives $C=\\sqrt{2e}-9e$. Therefore, $y = \\frac{t^4e^t - 4t^3e^t + 12t^2e^t - 24te^t + 24e^t - \\sqrt{2e}+9e}{t^2}.$"
   ]
  },
  {
   "cell_type": "markdown",
   "metadata": {},
   "source": [
    "$\\;\\;\\;\\;$ d. $y' = \\frac{4t^3y}{1+t^4},\\; 0\\leq t \\leq 1,\\; y(0) = 1$"
   ]
  },
  {
   "cell_type": "markdown",
   "metadata": {},
   "source": [
    "$\\;\\;\\;\\;$ _Sol._ Holding $t$ constant and applying the Mean Value Theorem to the function $$f(t,y) = \\frac{4t^3y}{1+t^4},$$ we find that when $y_1 < y_2$, a number $\\xi$ in $(y_1,y_2)$ exists with $$\\frac{f(t,y_2)-f(t,y_1)}{y_2-y_1}=\\frac{\\partial}{\\partial y}f(t,\\xi) = \\frac{4t^3}{1+t^4}.$$ Thus, $$|f(t,y_2)-f(t,y_1)| = |y_2-y_1||\\frac{4t^3}{1+t^4}|\\leq 2|y_2-y_1|,$$ with $L=2$ since $\\cos t$ has a maximum at 1 for $0\\leq t \\leq 1$, and $f$ satisfies a Lipschitz condition in the variable $y$ with Lipschitz constant $L=2$. Additionally, $f(t,y)$ is continuous when $0\\leq t \\leq 1$ and $-\\infty < y < \\infty,$ therefore Theorem 5.4 implies that a unique solution exists to this initial-value problem. \n",
    "\n",
    "Exact solution: $$\\begin{eqnarray} &y'&=\\frac{4t^3y}{1+t^4} \\\\ &\\Longrightarrow& \\frac{dy}{dt} = \\frac{4t^3y}{1+t^4} \\\\ &\\Longrightarrow& \\frac{dy}{y} = \\frac{4t^3}{1+t^4} dt  \\\\ &\\Longrightarrow& \\int \\frac{dy}{y} = \\int \\frac{4t^3}{1+t^4} dt \\\\ &\\Longrightarrow& \\ln y = -\\ln|\\frac{1}{1+t^4}| + c \\\\ &\\Longrightarrow& y = 1+t^4 + e^c, \\end{eqnarray}$$  Plugging in $y(0) = 1$ would give us $1 = 1 + e^{c} \\Longleftrightarrow c = \\ln(0)$. Therefore, $y=1+t^4$."
   ]
  },
  {
   "cell_type": "markdown",
   "metadata": {},
   "source": [
    "3\\. For each choice of $f(t,y)$ given in parts (a)-(d):\n",
    "\n",
    "$\\;\\;\\;\\;$ i. Does $f$ satisfy a Lipschitz condition on $D=\\{ (t,y)|0\\leq t \\leq 1, \\; -\\infty < y < \\infty\\}$?\n",
    "    \n",
    "$\\;\\;\\;\\;$ ii. Can Theorem 5.6 be used to show that the initial-value problem $$y'=f(t,y), \\; 0\\leq t \\leq 1,\\; y(0) = 1,$$ is well posed?"
   ]
  },
  {
   "cell_type": "markdown",
   "metadata": {},
   "source": [
    "$\\;\\;\\;\\;$ a. $f(t,y) = t^2y + 1$"
   ]
  },
  {
   "cell_type": "markdown",
   "metadata": {},
   "source": [
    "$\\;\\;\\;\\;$ _Sol._ \n",
    "$\\;\\;\\;\\;$ i. For each pair of points $(t,y_1)$ and $(t,y_2)$ in $D$, we have $$|f(t,y_1)-f(t,y_2)| = |t^2y_1+1 - t^2y_2-1| = |t^2||y_1-y_2| \\leq 1|y_1-y_2|.$$ Thus, $f$ satisfies a Lipschitz condition on $D$ in the variable $y$ with constant 1. \n",
    "\n",
    "$\\;\\;\\;\\;$ ii. By theorem 5.6, given that $D=\\{ (t,y)|a\\leq t \\leq b, \\; -\\infty < y < \\infty\\}$, if $f$ is continuous and satisfies a Lipschitz condition in the variable $y$ on the set $D$, then the initial-value problem $$\\frac{dy}{dt} = f(t,y),\\; a\\leq t\\leq b, \\; y(a) = \\alpha$$ is well posed. As shown in part i, $f$ does satisfy a Lipschitz condition in $y$ on $D$ and since $f$ is continuous on $D$, theorem 5.6 implies that $f$ is well posed. "
   ]
  },
  {
   "cell_type": "markdown",
   "metadata": {},
   "source": [
    "$\\;\\;\\;\\;$ b. $f(t,y) = ty$"
   ]
  },
  {
   "cell_type": "markdown",
   "metadata": {},
   "source": [
    "$\\;\\;\\;\\;$ _Sol._ \n",
    "$\\;\\;\\;\\;$ i. For each pair of points $(t,y_1)$ and $(t,y_2)$ in $D$, we have $$|f(t,y_1)-f(t,y_2)| = |ty_1 - ty_2| = |t||y_1-y_2| \\leq 1|y_1-y_2|.$$ Thus, $f$ satisfies a Lipschitz condition on $D$ in the variable $y$ with constant 1. \n",
    "\n",
    "$\\;\\;\\;\\;$ ii. By theorem 5.6, given that $D=\\{ (t,y)|a\\leq t \\leq b, \\; -\\infty < y < \\infty\\}$, if $f$ is continuous and satisfies a Lipschitz condition in the variable $y$ on the set $D$, then the initial-value problem $$\\frac{dy}{dt} = f(t,y),\\; a\\leq t\\leq b, \\; y(a) = \\alpha$$ is well posed. As shown in part i, $f$ does satisfy a Lipschitz condition in $y$ on $D$ and since $f$ is continuous on $D$, theorem 5.6 implies that $f$ is well posed. "
   ]
  },
  {
   "cell_type": "markdown",
   "metadata": {},
   "source": [
    "$\\;\\;\\;\\;$ c. $f(t,y) = 1-y$"
   ]
  },
  {
   "cell_type": "markdown",
   "metadata": {},
   "source": [
    "$\\;\\;\\;\\;$ _Sol._ \n",
    "$\\;\\;\\;\\;$ i. For each pair of points $(t,y_1)$ and $(t,y_2)$ in $D$, we have $$|f(t,y_1)-f(t,y_2)| = |1-y_1 - 1 + y_2| = |y_2-y_1|.$$ Thus, $f$ satisfies a Lipschitz condition on $D$ in the variable $y$ with constant 1.\n",
    "\n",
    "$\\;\\;\\;\\;$ ii. By theorem 5.6, given that $D=\\{ (t,y)|a\\leq t \\leq b, \\; -\\infty < y < \\infty\\}$, if $f$ is continuous and satisfies a Lipschitz condition in the variable $y$ on the set $D$, then the initial-value problem $$\\frac{dy}{dt} = f(t,y),\\; a\\leq t\\leq b, \\; y(a) = \\alpha$$ is well posed. As shown in part i, $f$ does satisfy a Lipschitz condition in $y$ on $D$ and since $f$ is continuous on $D$, theorem 5.6 implies that $f$ is well posed. "
   ]
  },
  {
   "cell_type": "markdown",
   "metadata": {},
   "source": [
    "$\\;\\;\\;\\;$ d. $f(t,y) = -ty + \\frac{4t}{y}$"
   ]
  },
  {
   "cell_type": "markdown",
   "metadata": {},
   "source": [
    "$\\;\\;\\;\\;$ _Sol._ \n",
    "$\\;\\;\\;\\;$ i. For each pair of points $(t,y_1)$ and $(t,y_2)$ in $D$, we have $$\\begin{eqnarray}|f(t,y_1)-f(t,y_2)| &=& \\Bigg|-ty_1+\\frac{4t}{y_1} + ty_2-\\frac{4t}{y_2}\\Bigg| \\\\ &=& \\Bigg|t(y_2-y_1)+4t(\\frac{1}{y_1}-\\frac{1}{y_2})\\Bigg| \\\\ &=& \\Bigg|t(y_2-y_1)+4t(\\frac{y_2-y_1}{y_1y_2})\\Bigg| \\\\ &=& \\Bigg|t(y_2-y_1)(1+\\frac{4}{y_1y_2})\\Bigg| \\\\ &=& |t|\\Bigg|1+\\frac{4}{y_1y_2}\\Bigg||y_2-y_1|.\\end{eqnarray}$$ The coefficient of $|y_2-y_1|$ depends on $y_1,y_2$ therefore it does not satisfy the Lipschitz condition. \n",
    "\n",
    "$\\;\\;\\;\\;$ ii. By theorem 5.6, given that $D=\\{ (t,y)|a\\leq t \\leq b, \\; -\\infty < y < \\infty\\}$, if $f$ is continuous and satisfies a Lipschitz condition in the variable $y$ on the set $D$, then the initial-value problem $$\\frac{dy}{dt} = f(t,y),\\; a\\leq t\\leq b, \\; y(a) = \\alpha$$ is well posed. As shown in part i, $f$ does not satisfy a Lipschitz condition in $y$ on $D$, therefore theorem 5.6 cannot be applied to $f$. "
   ]
  },
  {
   "cell_type": "markdown",
   "metadata": {},
   "source": [
    "5\\. For the following initial-value problems, show that the given equation implicitly defines a solution.\n",
    "Approximate $y(2)$ using Newton's method."
   ]
  },
  {
   "cell_type": "markdown",
   "metadata": {},
   "source": [
    "$\\;\\;\\;\\;$ a. $y' = -\\frac{y^3 + y}{(3y^2 + 1)t}, \\; 1\\leq t \\leq 2, \\; y(1)=1; \\; y^3t + yt = 2$"
   ]
  },
  {
   "cell_type": "markdown",
   "metadata": {},
   "source": [
    "$\\;\\;\\;\\;$ _Sol._ We want to solve that $y^3t + yt = 2$ is an implicit solution to the following ivp, $y' = -\\frac{y^3 + y}{(3y^2 + 1)t}$ above. So, $$\\begin{eqnarray} &\\frac{dy}{dt}& = -\\frac{y^3 + y}{(3y^2 + 1)t} \\\\ &\\Longleftrightarrow& \\frac{3y^2+1}{y^3+y}dy = -\\frac{1}{t}dt \\\\ &\\Longleftrightarrow& \\int \\frac{3y^2+1}{y^3+y}dy = -\\int \\frac{1}{t}dt \\\\ &\\Longleftrightarrow& \\ln|y^3+y| = -\\ln|t| + c \\\\ &\\Longleftrightarrow& \\ln|y^3+y| = -\\ln|t| + \\ln 2  \\\\ &\\Longleftrightarrow& \\ln|ty^3 + ty| = \\ln 2 \\\\ &\\Longleftrightarrow&  e^{\\ln|ty^3 + ty|} = e^{\\ln 2} \\\\ &\\Longleftrightarrow& y^3t + yt = 2.\\; \\checkmark\\end{eqnarray} $$ Now to approximate $y(2)$, $y(2)$ would imply that $$y^3t+yt=2 \\Longleftrightarrow 2y^3 + 2y = 2 \\Longleftrightarrow y^3 + y = 1$$ so $y(2) = y$ would be the solution. The two equations needed to approximate $y(2)$ through the Newton's method would be $f(y) = y^3 + y - 1$ and $f'(y) = 3y^2 + 1$. "
   ]
  },
  {
   "cell_type": "code",
   "execution_count": 1,
   "metadata": {},
   "outputs": [
    {
     "data": {
      "text/plain": [
       "'y(2) = 0.6823278038283682'"
      ]
     },
     "execution_count": 1,
     "metadata": {},
     "output_type": "execute_result"
    }
   ],
   "source": [
    "from math import * \n",
    "\n",
    "def newton(p0, TOL, N0):\n",
    "    i = 1\n",
    "    og = p0\n",
    "    while i <= N0:\n",
    "        p = p0 - f(p0)/f1(p0)\n",
    "        if abs(p-p0) < TOL:\n",
    "            return ('y('+str(og)+') = '+str(p)) \n",
    "            break\n",
    "        else:\n",
    "            i += 1\n",
    "            p0 = p \n",
    "            \n",
    "f = lambda y: y**3 + y - 1\n",
    "f1 = lambda y: 3*y**2 + 1\n",
    "newton(2, 10**(-5), 20)"
   ]
  },
  {
   "cell_type": "markdown",
   "metadata": {},
   "source": [
    "$\\;\\;\\;\\;$ b. $y' = -\\frac{y\\cos t + 2te^y}{\\sin t + t^2 e^y + 2}, \\; 1\\leq t \\leq 2, \\; y(1) = 0; \\; y\\sin t + t^2 e^y +2y = 1$"
   ]
  },
  {
   "cell_type": "markdown",
   "metadata": {},
   "source": [
    "$\\;\\;\\;\\;$ _Sol._ We want to solve that $y\\sin t + t^2 e^y +2y = 1$ is an implicit solution to the following ivp, $y' = -\\frac{y\\cos t + 2te^y}{\\sin t + t^2 e^y + 2}$ above. So, $$\\begin{eqnarray} &\\frac{dy}{dt}& = -\\frac{y\\cos t + 2te^y}{\\sin t + t^2 e^y + 2} \\\\ &\\Longleftrightarrow& (\\sin t + t^2 e^y + 2)dy + (y\\cos t + 2te^y)dt = 0 ^{(1)}. \\end{eqnarray} $$ Let $z(t) = y\\sin t + t^2e^y+2y$, then $z'(t) = y\\cos t + y'\\sin t + 2te^y + t^2e^yy' + 2y'$ which could be further simplified as $z'(t) = y'(\\sin t + t^2e^y + 2) + (y\\cos t + 2te^y) = 0 $ from $^{(1)}$. So integrating $z'(t)$ would give us $z(t) = c$ and $y(1)=0$ gives us $c=1$. Therefore, $z(t) = y\\sin t + t^2e^y+2y = 1$ as needed. Now to approximate $y(2)$, $y(2)$ would imply that $$ y\\sin t + t^2e^y+2y = 1 \\Longleftrightarrow  y\\sin 2 + 2^2e^y+2y = 1 \\Longleftrightarrow y\\sin 2 + 4e^y+2y = 1$$ so $y(2) = y$ would be the solution. The two equations needed to approximate $y(2)$ through the Newton's method would be $f(y) = y\\sin 2 + 4e^y+2y - 1$ and $f'(y) = \\sin 2 + 4e^y +2$. "
   ]
  },
  {
   "cell_type": "code",
   "execution_count": 2,
   "metadata": {},
   "outputs": [
    {
     "data": {
      "text/plain": [
       "'y(2) = -0.49465994791241963'"
      ]
     },
     "execution_count": 2,
     "metadata": {},
     "output_type": "execute_result"
    }
   ],
   "source": [
    "f = lambda y: y*sin(2) + 4*e**y + 2*y - 1\n",
    "f1 = lambda y: sin(2) + 4*e**y + 2\n",
    "newton(2, 10**(-5), 20)"
   ]
  },
  {
   "cell_type": "markdown",
   "metadata": {},
   "source": [
    "6\\. Suppose the perturbation $\\delta(t)$ is proportional to $t$, that is, $\\delta(t) = \\delta t$ for some constant $\\delta$. Show directly\n",
    "that the following initial-value problems are well posed."
   ]
  },
  {
   "cell_type": "markdown",
   "metadata": {},
   "source": [
    "$\\;\\;\\;\\;$ c. $y' = \\frac{2}{t}y + t^2e^t, \\; 1\\leq t \\leq 2, \\; y(1) = 0$"
   ]
  },
  {
   "cell_type": "markdown",
   "metadata": {},
   "source": [
    "$\\;\\;\\;\\;$ _Sol._ An ivp is said to be well posed if a unique solution, $y(t)$, exists and there exists constants $\\varepsilon_0 > 0$ and $k>0$ s.t. for any $\\varepsilon$, in $(0, \\varepsilon_0),$ whenever $\\delta(t)$ is continuous with $|\\delta(t)| < \\varepsilon$ for all $t$ in $[a,b]$, and when $|\\delta_0| < \\varepsilon$, the ivp has a unique solution $z(t)$ that satisfies $|z(t) - y(t)| < k\\varepsilon$ for all $t \\in [a,b].$ \n",
    "\n",
    "Exact solution: $$y' = \\frac{2}{t}y + t^2e^t \\\\ \\frac{dy}{dt} - \\frac{2}{t} = t^2 e^t \\\\ \\Longleftrightarrow y = t^2[e^t +c] \\Longleftrightarrow y = t^2(e^t - e)$$ The perturbed problem is $\\frac{dz}{dt} = \\frac{2}{t}z + t^2e^t + \\delta,\\; 1\\leq t\\leq 2, \\; z(1) = \\delta_0$ where $\\delta, \\delta_0$ are constants. Solving for $\\frac{dz}{dt} = \\frac{2}{t}z + t^2e^t + \\delta$ gives us $z=t^2e^t-\\delta t + (\\delta_0 + \\delta - e)t^2.$ Now suppose that $\\varepsilon\\in \\mathbb{R}^+$ and if $|\\delta|<\\varepsilon, \\; |\\delta_0|<\\varepsilon,$ then $$\\begin{eqnarray} |y(t) - z(t)| &=& |(t^2-t)\\delta + t^2\\delta_0| \\\\ &\\leq& |t^2\\delta| + |t\\delta| + |t^2\\delta_0| \\\\ &\\leq& |4||\\delta| + |2\\delta|+|4\\delta_0| < 10\\varepsilon. \\end{eqnarray}$$ Therefore, by definition, this ivp is a well posed."
   ]
  },
  {
   "cell_type": "markdown",
   "metadata": {},
   "source": [
    "$\\;\\;\\;\\;$ d. $y' = -\\frac{2}{t}y + t^2e^t, \\; 1\\leq t \\leq 2, \\; y(1) = \\sqrt{2}e$"
   ]
  },
  {
   "cell_type": "markdown",
   "metadata": {},
   "source": [
    "$\\;\\;\\;\\;$ _Sol._  An ivp is said to be well posed if a unique solution, $y(t)$, exists and there exists constants $\\varepsilon_0 > 0$ and $k>0$ s.t. for any $\\varepsilon$, in $(0, \\varepsilon_0),$ whenever $\\delta(t)$ is continuous with $|\\delta(t)| < \\varepsilon$ for all $t$ in $[a,b]$, and when $|\\delta_0| < \\varepsilon$, the ivp has a unique solution $z(t)$ that satisfies $|z(t) - y(t)| < k\\varepsilon$ for all $t \\in [a,b].$ \n",
    "\n",
    "Exact solution: $$y' = -\\frac{2}{t}y + t^2e^t \\\\ \\frac{dy}{dt} + \\frac{2}{t}y = t^2 e^t \\\\ \\Longleftrightarrow y =  \\frac{t^4e^t - 4t^3e^t + 12t^2e^t - 24te^t + 24e^t - c}{t^2} \\\\ \\Longleftrightarrow  y  = \\frac{t^4e^t - 4t^3e^t + 12t^2e^t - 24te^t + 24e^t + \\sqrt{2}e - 9e}{t^2}.$$ The perturbed problem is $\\frac{dz}{dt} = -\\frac{2}{t}z + t^2e^t + \\delta,\\; 1\\leq t\\leq 2, \\; z(1) = \\sqrt{2}e + \\delta_0$ where $\\delta, \\delta_0$ are constants. Solving for $\\frac{dz}{dt} = -\\frac{2}{t}z + t^2e^t + \\delta$ gives us $z = \\frac{t^4e^t - 4t^3e^t + 12t^2e^t - 24te^t + \\delta\\frac{t^3}{3} + (\\sqrt{2} - 9)e - \\frac{\\delta}{3}+ \\delta_0}{t^2}.$ Now suppose that $\\varepsilon\\in \\mathbb{R}^+$ and if $|\\delta|<\\varepsilon, \\; |\\delta_0|<\\varepsilon,$ then $$\\begin{eqnarray} |y(t) - z(t)| &=& |\\delta \\frac{t^2}{3} - \\frac{\\delta}{3} + \\delta_0| \\\\ &\\leq& |\\delta\\frac{t^3}{3}| + |\\frac{\\delta}{3}| + |\\delta_0| \\\\ &\\leq& \\frac{2^3}{3}|\\delta| + \\frac{1}{3}|\\delta| + |\\delta_0| < 4\\varepsilon.\\end{eqnarray}$$  Therefore, by definition, this ivp is a well posed."
   ]
  },
  {
   "cell_type": "markdown",
   "metadata": {},
   "source": [
    "7\\. Show that any point on the line joining $(t_1, y_1)$ to $(t_2, y_2)$ corresponds to $((1-\\lambda)t_1 + \\lambda t_2,\\; (1-\\lambda)y_1 + \\lambda y_2)$ for some choice of $\\lambda$."
   ]
  },
  {
   "cell_type": "markdown",
   "metadata": {},
   "source": [
    "$\\;\\;\\;\\;$ _Sol._ Given that $(t,y)$ lies on the straight line connecting the points $(t_1, y_1)$ and $(t_2, y_2)$, then we could assign the slope $m = \\frac{y_2-y_1}{t_2-t_1} = \\frac{y-y_1}{t-t_1}$ to $\\lambda$ and rearrange the equations as $y = y_1 -\\lambda y_1 + \\lambda y_2$ and $t=t_1 - \\lambda t_1 + \\lambda t_2.$ These equations can be further simplifed as $y = (1-\\lambda)y_1 + \\lambda y_2$ and $t = (1-\\lambda)t_1 + \\lambda t_2.$ Therefore, for any constant $\\lambda$ and any point $(t,y)$ lying on a straight line joining $(t_1, y_1)$ to $(t_2, y_2)$ can be given by $((1-\\lambda)t_1 + \\lambda t_2,\\; (1-\\lambda)y_1 + \\lambda y_2)$."
   ]
  },
  {
   "cell_type": "markdown",
   "metadata": {},
   "source": [
    "10\\. _Picard's method_ for solving the initial-value problem $$y'=f(t,y), \\; a\\leq t \\leq b, \\; y(a)=\\alpha,$$ is described as follows: Let $y_0(t) = \\alpha$ for each $t$ in $[a,b].$ Define a sequence $\\{y_k(t)\\}$ of functions by $$y_k(t) = \\alpha + \\int^t_a = f(\\tau, y_{k-1}(\\tau))d\\tau, \\; k=1,2,...$$"
   ]
  },
  {
   "cell_type": "markdown",
   "metadata": {},
   "source": [
    "$\\;\\;\\;\\;$ a. Integrate $y' = f(t, y(t))$ and use the initial condition to derive Picard's method."
   ]
  },
  {
   "cell_type": "markdown",
   "metadata": {},
   "source": [
    "$\\;\\;\\;\\;$ _Sol._ $$\\begin{eqnarray} \\int^t_a y'(z)dz &=& \\int^t_a f(z,y(z))dz \\\\ y(t) - y(a) &=& \\int^t_a f(z,y(z))dz \\\\  y(t) &=& \\alpha + \\int^t_a f(z,y(z))dz\\end{eqnarray}$$"
   ]
  },
  {
   "cell_type": "markdown",
   "metadata": {},
   "source": [
    "$\\;\\;\\;\\;$ b. Generate $y_0(t), y_1(t),y_2(t),$ and $y_3(t)$ for the initial-value problem $$y'=-y+t+1,\\; 0\\leq t \\leq 1, \\; y(0) = 1.$$ "
   ]
  },
  {
   "cell_type": "markdown",
   "metadata": {},
   "source": [
    "$\\;\\;\\;\\;$ _Sol._ $y_1(t) = 1 + \\int^t_0 (t)dt, \\; y_2(t) = 1 + \\int^t_0(t-\\frac{t^2}{2})dt, \\\\ \\; y_3(t) = 1 + \\int^t_0 (t-\\frac{t^2}{2} + \\frac{t^3}{6})dt$ "
   ]
  },
  {
   "cell_type": "markdown",
   "metadata": {},
   "source": [
    "$\\;\\;\\;\\;$ c. Compare the result in part (b) to the Maclaurin series of the actual solution $y(t) = t + e^{-t}.$"
   ]
  },
  {
   "cell_type": "markdown",
   "metadata": {},
   "source": [
    "$\\;\\;\\;\\;$ _Sol._ The Maclaurin series is $y(t) = 1 + \\frac{t^2}{2}-\\frac{t^3}{6}+\\frac{t^4}{24}.$ By comparing the Maclaurin series with part (b) results, we find that the Picard's method produces solutions which are approximates to different terms of the Maclaurin series."
   ]
  },
  {
   "cell_type": "markdown",
   "metadata": {},
   "source": [
    "(Section 5.2)"
   ]
  },
  {
   "cell_type": "markdown",
   "metadata": {},
   "source": [
    "2\\. Use Euler's method to approximate the solutions for each of the following initial-value problems."
   ]
  },
  {
   "cell_type": "markdown",
   "metadata": {},
   "source": [
    "$\\;\\;\\;\\;$ a. $y' = e^{t-y},\\; 0\\leq t\\leq 1, \\; y(0)=1,$ with $h = 0.5$"
   ]
  },
  {
   "cell_type": "code",
   "execution_count": 3,
   "metadata": {},
   "outputs": [
    {
     "name": "stdout",
     "output_type": "stream",
     "text": [
      "w_0 = 1\n",
      "w_1 = 1.1839397205857212\n",
      "w_2 = 1.436252215343503\n"
     ]
    }
   ],
   "source": [
    "def euler(a, b, N, alpha):\n",
    "    h = (b-a)/N\n",
    "    t = a\n",
    "    w = alpha \n",
    "    solutions = [w]\n",
    "    for i in range(N):\n",
    "        w = w + h*f(t, w)\n",
    "        t = t + h\n",
    "        solutions.append(w)\n",
    "    return solutions\n",
    "        \n",
    "def f(t, y):\n",
    "    return e**(t-y)\n",
    "\n",
    "arr = euler(0, 1, 2, 1)   \n",
    "for i in range(len(arr)):\n",
    "    print('w_'+str(i), '=', arr[i])"
   ]
  },
  {
   "cell_type": "markdown",
   "metadata": {},
   "source": [
    "$\\;\\;\\;\\;$ b. $y' = \\frac{1+t}{1+y}, \\; 1\\leq t \\leq 2, \\; y(1)=2,$ with $h=0.5$"
   ]
  },
  {
   "cell_type": "code",
   "execution_count": 4,
   "metadata": {},
   "outputs": [
    {
     "name": "stdout",
     "output_type": "stream",
     "text": [
      "w_0 = 2\n",
      "w_1 = 2.3333333333333335\n",
      "w_2 = 2.7083333333333335\n"
     ]
    }
   ],
   "source": [
    "def f(t, y):\n",
    "    return (1+t)/(1+y)\n",
    "\n",
    "arr = euler(1, 2, 2, 2)   \n",
    "for i in range(len(arr)):\n",
    "    print('w_'+str(i), '=', arr[i])"
   ]
  },
  {
   "cell_type": "markdown",
   "metadata": {},
   "source": [
    "4\\. The actual solutions to the initial-value problems in Exercise 2 are given here. Compare the actual\n",
    "error at each step to the error bound if Theorem 5.9 can be applied"
   ]
  },
  {
   "cell_type": "markdown",
   "metadata": {},
   "source": [
    "$\\;\\;\\;\\;$ a. $y(t) = \\ln (e^t + e -1)$"
   ]
  },
  {
   "cell_type": "markdown",
   "metadata": {},
   "source": [
    "$\\;\\;\\;\\;$ _Sol._ Define $D = \\{(t,y)|0\\leq t\\leq 1, \\; -\\infty < y < \\infty\\}$. Holding $t$ constant and applying the Mean Value Theorem to the function $$f(t,y) = e^{t-y},$$ we find that when $y_1 < y_2$, a number $\\xi$ in $(y_1,y_2)$ exists with $$\\frac{f(t,y_2)-f(t,y_1)}{y_2-y_1}=\\frac{\\partial}{\\partial y}f(t,\\xi) =-e^{t-\\xi}.$$ Thus, $$|f(t,y_2)-f(t,y_1)| = |y_2-y_1||-e^{t-\\xi}|\\leq \\Bigg|\\frac{e^{1}}{e^{1}+e-1}\\Bigg||y_2-y_1| \\approx 0.61269984 |y_2-y_1|,$$ and $f$ satisfies a Lipschitz condition in the variable $y$ with Lipschitz constant $L=0.61269984$. Also $f\\in C(D)$. For this problem, the exact solution is $y(t) = \\ln (e^t + e -1)$ so $y''(t) = \\frac{-e^t + e^{t+1}}{(e^t+e-1)^2}\\leq 0.2372987$ for all $t\\in [0,1].$ Therefore, using theorem 5.9, the error bound would be $|y(t_i)-w_i|\\leq \\frac{hM}{2L}[e^{L(t_i-a)}-1].$\n",
    "\n"
   ]
  },
  {
   "cell_type": "code",
   "execution_count": 5,
   "metadata": {},
   "outputs": [
    {
     "data": {
      "text/html": [
       "<div>\n",
       "<style scoped>\n",
       "    .dataframe tbody tr th:only-of-type {\n",
       "        vertical-align: middle;\n",
       "    }\n",
       "\n",
       "    .dataframe tbody tr th {\n",
       "        vertical-align: top;\n",
       "    }\n",
       "\n",
       "    .dataframe thead th {\n",
       "        text-align: right;\n",
       "    }\n",
       "</style>\n",
       "<table border=\"1\" class=\"dataframe\">\n",
       "  <thead>\n",
       "    <tr style=\"text-align: right;\">\n",
       "      <th></th>\n",
       "      <th>t_i</th>\n",
       "      <th>w_i (approx. values)</th>\n",
       "      <th>y[t_i] (exact values)</th>\n",
       "      <th>error bounds</th>\n",
       "      <th>actual error</th>\n",
       "    </tr>\n",
       "  </thead>\n",
       "  <tbody>\n",
       "    <tr>\n",
       "      <th>0</th>\n",
       "      <td>0.0</td>\n",
       "      <td>1.000000</td>\n",
       "      <td>1.000000</td>\n",
       "      <td>0.000000</td>\n",
       "      <td>0.000000</td>\n",
       "    </tr>\n",
       "    <tr>\n",
       "      <th>1</th>\n",
       "      <td>0.5</td>\n",
       "      <td>1.183940</td>\n",
       "      <td>1.214023</td>\n",
       "      <td>0.034708</td>\n",
       "      <td>0.030083</td>\n",
       "    </tr>\n",
       "    <tr>\n",
       "      <th>2</th>\n",
       "      <td>1.0</td>\n",
       "      <td>1.436252</td>\n",
       "      <td>1.489880</td>\n",
       "      <td>0.081857</td>\n",
       "      <td>0.053628</td>\n",
       "    </tr>\n",
       "  </tbody>\n",
       "</table>\n",
       "</div>"
      ],
      "text/plain": [
       "   t_i  w_i (approx. values)  y[t_i] (exact values)  error bounds  \\\n",
       "0  0.0              1.000000               1.000000      0.000000   \n",
       "1  0.5              1.183940               1.214023      0.034708   \n",
       "2  1.0              1.436252               1.489880      0.081857   \n",
       "\n",
       "   actual error  \n",
       "0      0.000000  \n",
       "1      0.030083  \n",
       "2      0.053628  "
      ]
     },
     "execution_count": 5,
     "metadata": {},
     "output_type": "execute_result"
    }
   ],
   "source": [
    "import pandas as pd \n",
    "\n",
    "def actual(a, h, N):\n",
    "    t = a \n",
    "    solutions = []\n",
    "    for i in range(N+1):\n",
    "        solutions.append(y(t))\n",
    "        t = t + h      \n",
    "    return solutions \n",
    "\n",
    "def errorB(a, N, h, M, L):\n",
    "    t = a\n",
    "    solutions = [] \n",
    "    for i in range(N+1):\n",
    "        solutions.append( (h*M)/(2*L) * (e**(L*(t-a)) - 1) )\n",
    "        t = t + h \n",
    "    return solutions \n",
    "\n",
    "def f(t, y):\n",
    "    return e**(t-y)\n",
    "\n",
    "y = lambda t: log(e**t + e - 1)\n",
    " \n",
    "L = e/(e+e-1)\n",
    "M = (-e+e**2)/((e+e-1)**2)\n",
    "\n",
    "\n",
    "data = {'t_i':[0, 0.5, 1],\n",
    "        'w_i (approx. values)':euler(0, 1, 2, 1), \n",
    "       'y[t_i] (exact values)':actual(0, 0.5, 2), \n",
    "       'error bounds':errorB(0, 2, 0.5, M, L)}\n",
    "table = pd.DataFrame(data)\n",
    "table['actual error'] = table['y[t_i] (exact values)'] - table['w_i (approx. values)']\n",
    "table"
   ]
  },
  {
   "cell_type": "markdown",
   "metadata": {},
   "source": [
    "$\\;\\;\\;\\;$ b. $y(t) = \\sqrt{t^2 +2t + 6} - 1$"
   ]
  },
  {
   "cell_type": "markdown",
   "metadata": {},
   "source": [
    "$\\;\\;\\;\\;$ _Sol._ Define $D = \\{(t,y)|1\\leq t \\leq 2, \\; -\\infty < y < \\infty\\}$. Holding $t$ constant and applying the Mean Value Theorem to the function $$f(t,y) = \\frac{1+t}{1+y},$$ we find that when $y_1 < y_2$, a number $\\xi$ in $(y_1,y_2)$ exists with $$\\frac{f(t,y_2)-f(t,y_1)}{y_2-y_1}=\\frac{\\partial}{\\partial y}f(t,\\xi) =\\frac{-1-t}{(1+\\xi)^2}.$$ Thus, $$\\begin{eqnarray} |f(t,y_2)-f(t,y_1)| &=& |y_2-y_1||\\frac{-1-t}{(1+\\xi)^2}|\\\\ &\\leq& \\Bigg|\\frac{-1-t}{(\\sqrt{t^2+2t+6)}^2}\\Bigg||y_2-y_1| \\\\ &\\approx& 0.22222|y_2-y_1|,\\end{eqnarray}$$ and $f$ satisfies a Lipschitz condition in the variable $y$ with Lipschitz constant $L=0.22222$. Also $f\\in C(D)$. For this problem, $$\\begin{eqnarray} y''(t) &=& \\frac{1}{1+y}+\\frac{-(1+t)y'}{(1+y)^2} \\\\ &=&  \\frac{(1+y)-(1+t)\\frac{1+t}{1+y}}{(1+y)^2} \\\\ &=&  \\frac{(1+\\sqrt{t^2 +2t + 6} - 1)-(1+t)\\frac{1+t}{1+\\sqrt{t^2 +2t + 6} - 1}}{(1+\\sqrt{t^2 +2t + 6} - 1)^2} \\\\ &\\leq& \\frac{(1+\\sqrt{1^2 +2 + 6} - 1)-(1+1)\\frac{1+1}{1+\\sqrt{1^2 +2 + 6} - 1}}{(1+\\sqrt{1^2 +2 + 6} - 1)^2} \\\\ &\\approx& 0.1851852 = M. \\end{eqnarray}$$ Therefore, using theorem 5.9, the error bound would be $|y(t_i)-w_i|\\leq \\frac{hM}{2L}[e^{L(t_i-a)}-1].$\n"
   ]
  },
  {
   "cell_type": "code",
   "execution_count": 6,
   "metadata": {},
   "outputs": [
    {
     "data": {
      "text/html": [
       "<div>\n",
       "<style scoped>\n",
       "    .dataframe tbody tr th:only-of-type {\n",
       "        vertical-align: middle;\n",
       "    }\n",
       "\n",
       "    .dataframe tbody tr th {\n",
       "        vertical-align: top;\n",
       "    }\n",
       "\n",
       "    .dataframe thead th {\n",
       "        text-align: right;\n",
       "    }\n",
       "</style>\n",
       "<table border=\"1\" class=\"dataframe\">\n",
       "  <thead>\n",
       "    <tr style=\"text-align: right;\">\n",
       "      <th></th>\n",
       "      <th>w_i (approx. values)</th>\n",
       "      <th>y[t_i] (exact values)</th>\n",
       "      <th>error bounds</th>\n",
       "      <th>actual error</th>\n",
       "    </tr>\n",
       "  </thead>\n",
       "  <tbody>\n",
       "    <tr>\n",
       "      <th>0</th>\n",
       "      <td>2.000000</td>\n",
       "      <td>2.000000</td>\n",
       "      <td>0.000000</td>\n",
       "      <td>0.000000</td>\n",
       "    </tr>\n",
       "    <tr>\n",
       "      <th>1</th>\n",
       "      <td>2.333333</td>\n",
       "      <td>2.354102</td>\n",
       "      <td>0.024483</td>\n",
       "      <td>0.020769</td>\n",
       "    </tr>\n",
       "    <tr>\n",
       "      <th>2</th>\n",
       "      <td>2.708333</td>\n",
       "      <td>2.741657</td>\n",
       "      <td>0.051844</td>\n",
       "      <td>0.033324</td>\n",
       "    </tr>\n",
       "  </tbody>\n",
       "</table>\n",
       "</div>"
      ],
      "text/plain": [
       "   w_i (approx. values)  y[t_i] (exact values)  error bounds  actual error\n",
       "0              2.000000               2.000000      0.000000      0.000000\n",
       "1              2.333333               2.354102      0.024483      0.020769\n",
       "2              2.708333               2.741657      0.051844      0.033324"
      ]
     },
     "execution_count": 6,
     "metadata": {},
     "output_type": "execute_result"
    }
   ],
   "source": [
    "L = 2/9\n",
    "M = (3 - 2*2/3)/(9)\n",
    "\n",
    "def f(t, y):\n",
    "    return (1+t)/(1+y)\n",
    "\n",
    "y = lambda t: (t**2 + 2*t + 6)**(1/2) - 1\n",
    "\n",
    "data = {'w_i (approx. values)':euler(1, 2, 2, 2), \n",
    "       'y[t_i] (exact values)':actual(1, 0.5, 2), \n",
    "       'error bounds':errorB(1, 2, 0.5, M, L)}\n",
    "table = pd.DataFrame(data)\n",
    "table['actual error'] = table['y[t_i] (exact values)'] - table['w_i (approx. values)']\n",
    "table"
   ]
  },
  {
   "cell_type": "markdown",
   "metadata": {},
   "source": [
    "5\\. Use Euler's method to approximate the solutions for each of the following initial-value problems."
   ]
  },
  {
   "cell_type": "markdown",
   "metadata": {},
   "source": [
    "$\\;\\;\\;\\;$ c. $y' = -(y+1)(y+3), \\; 0\\leq t\\leq 2, \\; y(0) = -2,$ with $h=0.2$"
   ]
  },
  {
   "cell_type": "code",
   "execution_count": 7,
   "metadata": {},
   "outputs": [
    {
     "data": {
      "text/html": [
       "<div>\n",
       "<style scoped>\n",
       "    .dataframe tbody tr th:only-of-type {\n",
       "        vertical-align: middle;\n",
       "    }\n",
       "\n",
       "    .dataframe tbody tr th {\n",
       "        vertical-align: top;\n",
       "    }\n",
       "\n",
       "    .dataframe thead th {\n",
       "        text-align: right;\n",
       "    }\n",
       "</style>\n",
       "<table border=\"1\" class=\"dataframe\">\n",
       "  <thead>\n",
       "    <tr style=\"text-align: right;\">\n",
       "      <th></th>\n",
       "      <th>t_i</th>\n",
       "      <th>w_i (approx. values)</th>\n",
       "    </tr>\n",
       "  </thead>\n",
       "  <tbody>\n",
       "    <tr>\n",
       "      <th>0</th>\n",
       "      <td>0.0</td>\n",
       "      <td>-2.000000</td>\n",
       "    </tr>\n",
       "    <tr>\n",
       "      <th>1</th>\n",
       "      <td>0.2</td>\n",
       "      <td>-1.800000</td>\n",
       "    </tr>\n",
       "    <tr>\n",
       "      <th>2</th>\n",
       "      <td>0.4</td>\n",
       "      <td>-1.608000</td>\n",
       "    </tr>\n",
       "    <tr>\n",
       "      <th>3</th>\n",
       "      <td>0.6</td>\n",
       "      <td>-1.438733</td>\n",
       "    </tr>\n",
       "    <tr>\n",
       "      <th>4</th>\n",
       "      <td>0.8</td>\n",
       "      <td>-1.301737</td>\n",
       "    </tr>\n",
       "    <tr>\n",
       "      <th>5</th>\n",
       "      <td>1.0</td>\n",
       "      <td>-1.199251</td>\n",
       "    </tr>\n",
       "    <tr>\n",
       "      <th>6</th>\n",
       "      <td>1.2</td>\n",
       "      <td>-1.127491</td>\n",
       "    </tr>\n",
       "    <tr>\n",
       "      <th>7</th>\n",
       "      <td>1.4</td>\n",
       "      <td>-1.079745</td>\n",
       "    </tr>\n",
       "    <tr>\n",
       "      <th>8</th>\n",
       "      <td>1.6</td>\n",
       "      <td>-1.049119</td>\n",
       "    </tr>\n",
       "    <tr>\n",
       "      <th>9</th>\n",
       "      <td>1.8</td>\n",
       "      <td>-1.029954</td>\n",
       "    </tr>\n",
       "    <tr>\n",
       "      <th>10</th>\n",
       "      <td>2.0</td>\n",
       "      <td>-1.018152</td>\n",
       "    </tr>\n",
       "  </tbody>\n",
       "</table>\n",
       "</div>"
      ],
      "text/plain": [
       "    t_i  w_i (approx. values)\n",
       "0   0.0             -2.000000\n",
       "1   0.2             -1.800000\n",
       "2   0.4             -1.608000\n",
       "3   0.6             -1.438733\n",
       "4   0.8             -1.301737\n",
       "5   1.0             -1.199251\n",
       "6   1.2             -1.127491\n",
       "7   1.4             -1.079745\n",
       "8   1.6             -1.049119\n",
       "9   1.8             -1.029954\n",
       "10  2.0             -1.018152"
      ]
     },
     "execution_count": 7,
     "metadata": {},
     "output_type": "execute_result"
    }
   ],
   "source": [
    "def f(t, y):\n",
    "    return -(y+1)*(y+3)\n",
    "\n",
    "data = {'t_i':[0, 0.2, 0.4, 0.6, 0.8, 1.0, 1.2, 1.4, 1.6, 1.8, 2.0],\n",
    "        'w_i (approx. values)':euler(0, 2, 10, -2)}\n",
    "table = pd.DataFrame(data)\n",
    "table"
   ]
  },
  {
   "cell_type": "markdown",
   "metadata": {},
   "source": [
    "$\\;\\;\\;\\;$ d. $y' = -5y + 5t^2 + 2t, \\; 0\\leq t \\leq 1, \\; y(0) = \\frac{1}{3},$ with $h=0.1$"
   ]
  },
  {
   "cell_type": "code",
   "execution_count": 8,
   "metadata": {},
   "outputs": [
    {
     "data": {
      "text/html": [
       "<div>\n",
       "<style scoped>\n",
       "    .dataframe tbody tr th:only-of-type {\n",
       "        vertical-align: middle;\n",
       "    }\n",
       "\n",
       "    .dataframe tbody tr th {\n",
       "        vertical-align: top;\n",
       "    }\n",
       "\n",
       "    .dataframe thead th {\n",
       "        text-align: right;\n",
       "    }\n",
       "</style>\n",
       "<table border=\"1\" class=\"dataframe\">\n",
       "  <thead>\n",
       "    <tr style=\"text-align: right;\">\n",
       "      <th></th>\n",
       "      <th>t_i</th>\n",
       "      <th>w_i (approx. values)</th>\n",
       "    </tr>\n",
       "  </thead>\n",
       "  <tbody>\n",
       "    <tr>\n",
       "      <th>0</th>\n",
       "      <td>0.0</td>\n",
       "      <td>0.333333</td>\n",
       "    </tr>\n",
       "    <tr>\n",
       "      <th>1</th>\n",
       "      <td>0.1</td>\n",
       "      <td>0.166667</td>\n",
       "    </tr>\n",
       "    <tr>\n",
       "      <th>2</th>\n",
       "      <td>0.2</td>\n",
       "      <td>0.108333</td>\n",
       "    </tr>\n",
       "    <tr>\n",
       "      <th>3</th>\n",
       "      <td>0.3</td>\n",
       "      <td>0.114167</td>\n",
       "    </tr>\n",
       "    <tr>\n",
       "      <th>4</th>\n",
       "      <td>0.4</td>\n",
       "      <td>0.162083</td>\n",
       "    </tr>\n",
       "    <tr>\n",
       "      <th>5</th>\n",
       "      <td>0.5</td>\n",
       "      <td>0.241042</td>\n",
       "    </tr>\n",
       "    <tr>\n",
       "      <th>6</th>\n",
       "      <td>0.6</td>\n",
       "      <td>0.345521</td>\n",
       "    </tr>\n",
       "    <tr>\n",
       "      <th>7</th>\n",
       "      <td>0.7</td>\n",
       "      <td>0.472760</td>\n",
       "    </tr>\n",
       "    <tr>\n",
       "      <th>8</th>\n",
       "      <td>0.8</td>\n",
       "      <td>0.621380</td>\n",
       "    </tr>\n",
       "    <tr>\n",
       "      <th>9</th>\n",
       "      <td>0.9</td>\n",
       "      <td>0.790690</td>\n",
       "    </tr>\n",
       "    <tr>\n",
       "      <th>10</th>\n",
       "      <td>1.0</td>\n",
       "      <td>0.980345</td>\n",
       "    </tr>\n",
       "  </tbody>\n",
       "</table>\n",
       "</div>"
      ],
      "text/plain": [
       "    t_i  w_i (approx. values)\n",
       "0   0.0              0.333333\n",
       "1   0.1              0.166667\n",
       "2   0.2              0.108333\n",
       "3   0.3              0.114167\n",
       "4   0.4              0.162083\n",
       "5   0.5              0.241042\n",
       "6   0.6              0.345521\n",
       "7   0.7              0.472760\n",
       "8   0.8              0.621380\n",
       "9   0.9              0.790690\n",
       "10  1.0              0.980345"
      ]
     },
     "execution_count": 8,
     "metadata": {},
     "output_type": "execute_result"
    }
   ],
   "source": [
    "def f(t, y):\n",
    "    return -5*y+5*t**2+2*t\n",
    "\n",
    "data = {'t_i':[0, 0.1, 0.2, 0.3, 0.4, 0.5, 0.6, 0.7, 0.8, 0.9, 1.0],\n",
    "        'w_i (approx. values)':euler(0, 1, 10, 1/3)}\n",
    "table = pd.DataFrame(data)\n",
    "table"
   ]
  },
  {
   "cell_type": "markdown",
   "metadata": {},
   "source": [
    "7\\. The actual solutions to the initial-value problems in Exercise 5 are given here. Compute the actual\n",
    "error in the approximations of Exercise 5."
   ]
  },
  {
   "cell_type": "markdown",
   "metadata": {},
   "source": [
    "$\\;\\;\\;\\;$ c. $y(t) = -3 + \\frac{2}{1+e^{-2t}}$"
   ]
  },
  {
   "cell_type": "code",
   "execution_count": 9,
   "metadata": {},
   "outputs": [
    {
     "data": {
      "text/html": [
       "<div>\n",
       "<style scoped>\n",
       "    .dataframe tbody tr th:only-of-type {\n",
       "        vertical-align: middle;\n",
       "    }\n",
       "\n",
       "    .dataframe tbody tr th {\n",
       "        vertical-align: top;\n",
       "    }\n",
       "\n",
       "    .dataframe thead th {\n",
       "        text-align: right;\n",
       "    }\n",
       "</style>\n",
       "<table border=\"1\" class=\"dataframe\">\n",
       "  <thead>\n",
       "    <tr style=\"text-align: right;\">\n",
       "      <th></th>\n",
       "      <th>t_i</th>\n",
       "      <th>w_i (approx. values)</th>\n",
       "      <th>y[t_i] (actual values)</th>\n",
       "      <th>actual error</th>\n",
       "    </tr>\n",
       "  </thead>\n",
       "  <tbody>\n",
       "    <tr>\n",
       "      <th>0</th>\n",
       "      <td>0.0</td>\n",
       "      <td>-2.000000</td>\n",
       "      <td>-2.000000</td>\n",
       "      <td>0.000000</td>\n",
       "    </tr>\n",
       "    <tr>\n",
       "      <th>1</th>\n",
       "      <td>0.2</td>\n",
       "      <td>-1.800000</td>\n",
       "      <td>-1.802625</td>\n",
       "      <td>-0.002625</td>\n",
       "    </tr>\n",
       "    <tr>\n",
       "      <th>2</th>\n",
       "      <td>0.4</td>\n",
       "      <td>-1.608000</td>\n",
       "      <td>-1.620051</td>\n",
       "      <td>-0.012051</td>\n",
       "    </tr>\n",
       "    <tr>\n",
       "      <th>3</th>\n",
       "      <td>0.6</td>\n",
       "      <td>-1.438733</td>\n",
       "      <td>-1.462950</td>\n",
       "      <td>-0.024218</td>\n",
       "    </tr>\n",
       "    <tr>\n",
       "      <th>4</th>\n",
       "      <td>0.8</td>\n",
       "      <td>-1.301737</td>\n",
       "      <td>-1.335963</td>\n",
       "      <td>-0.034226</td>\n",
       "    </tr>\n",
       "    <tr>\n",
       "      <th>5</th>\n",
       "      <td>1.0</td>\n",
       "      <td>-1.199251</td>\n",
       "      <td>-1.238406</td>\n",
       "      <td>-0.039155</td>\n",
       "    </tr>\n",
       "    <tr>\n",
       "      <th>6</th>\n",
       "      <td>1.2</td>\n",
       "      <td>-1.127491</td>\n",
       "      <td>-1.166345</td>\n",
       "      <td>-0.038854</td>\n",
       "    </tr>\n",
       "    <tr>\n",
       "      <th>7</th>\n",
       "      <td>1.4</td>\n",
       "      <td>-1.079745</td>\n",
       "      <td>-1.114648</td>\n",
       "      <td>-0.034903</td>\n",
       "    </tr>\n",
       "    <tr>\n",
       "      <th>8</th>\n",
       "      <td>1.6</td>\n",
       "      <td>-1.049119</td>\n",
       "      <td>-1.078331</td>\n",
       "      <td>-0.029212</td>\n",
       "    </tr>\n",
       "    <tr>\n",
       "      <th>9</th>\n",
       "      <td>1.8</td>\n",
       "      <td>-1.029954</td>\n",
       "      <td>-1.053194</td>\n",
       "      <td>-0.023240</td>\n",
       "    </tr>\n",
       "    <tr>\n",
       "      <th>10</th>\n",
       "      <td>2.0</td>\n",
       "      <td>-1.018152</td>\n",
       "      <td>-1.035972</td>\n",
       "      <td>-0.017821</td>\n",
       "    </tr>\n",
       "  </tbody>\n",
       "</table>\n",
       "</div>"
      ],
      "text/plain": [
       "    t_i  w_i (approx. values)  y[t_i] (actual values)  actual error\n",
       "0   0.0             -2.000000               -2.000000      0.000000\n",
       "1   0.2             -1.800000               -1.802625     -0.002625\n",
       "2   0.4             -1.608000               -1.620051     -0.012051\n",
       "3   0.6             -1.438733               -1.462950     -0.024218\n",
       "4   0.8             -1.301737               -1.335963     -0.034226\n",
       "5   1.0             -1.199251               -1.238406     -0.039155\n",
       "6   1.2             -1.127491               -1.166345     -0.038854\n",
       "7   1.4             -1.079745               -1.114648     -0.034903\n",
       "8   1.6             -1.049119               -1.078331     -0.029212\n",
       "9   1.8             -1.029954               -1.053194     -0.023240\n",
       "10  2.0             -1.018152               -1.035972     -0.017821"
      ]
     },
     "execution_count": 9,
     "metadata": {},
     "output_type": "execute_result"
    }
   ],
   "source": [
    "def f(t, y):\n",
    "    return -(y+1)*(y+3)\n",
    "\n",
    "y = lambda t: -3 + 2/(1+e**(-2*t))\n",
    "\n",
    "data = {'t_i':[0, 0.2, 0.4, 0.6, 0.8, 1.0, 1.2, 1.4, 1.6, 1.8, 2.0],\n",
    "        'w_i (approx. values)':euler(0, 2, 10, -2),\n",
    "       'y[t_i] (actual values)':actual(0, 0.2, 10)}\n",
    "table = pd.DataFrame(data)\n",
    "table['actual error'] = table['y[t_i] (actual values)'] - table['w_i (approx. values)']\n",
    "table"
   ]
  },
  {
   "cell_type": "markdown",
   "metadata": {},
   "source": [
    "$\\;\\;\\;\\;$ d. $y(t) = t^2 + \\frac{1}{3} e^{-5t}$"
   ]
  },
  {
   "cell_type": "code",
   "execution_count": 10,
   "metadata": {},
   "outputs": [
    {
     "data": {
      "text/html": [
       "<div>\n",
       "<style scoped>\n",
       "    .dataframe tbody tr th:only-of-type {\n",
       "        vertical-align: middle;\n",
       "    }\n",
       "\n",
       "    .dataframe tbody tr th {\n",
       "        vertical-align: top;\n",
       "    }\n",
       "\n",
       "    .dataframe thead th {\n",
       "        text-align: right;\n",
       "    }\n",
       "</style>\n",
       "<table border=\"1\" class=\"dataframe\">\n",
       "  <thead>\n",
       "    <tr style=\"text-align: right;\">\n",
       "      <th></th>\n",
       "      <th>t_i</th>\n",
       "      <th>w_i (approx. values)</th>\n",
       "      <th>y[t_i] (actual values)</th>\n",
       "      <th>actual error</th>\n",
       "    </tr>\n",
       "  </thead>\n",
       "  <tbody>\n",
       "    <tr>\n",
       "      <th>0</th>\n",
       "      <td>0.0</td>\n",
       "      <td>0.333333</td>\n",
       "      <td>0.333333</td>\n",
       "      <td>0.000000</td>\n",
       "    </tr>\n",
       "    <tr>\n",
       "      <th>1</th>\n",
       "      <td>0.1</td>\n",
       "      <td>0.166667</td>\n",
       "      <td>0.212177</td>\n",
       "      <td>0.045510</td>\n",
       "    </tr>\n",
       "    <tr>\n",
       "      <th>2</th>\n",
       "      <td>0.2</td>\n",
       "      <td>0.108333</td>\n",
       "      <td>0.162626</td>\n",
       "      <td>0.054293</td>\n",
       "    </tr>\n",
       "    <tr>\n",
       "      <th>3</th>\n",
       "      <td>0.3</td>\n",
       "      <td>0.114167</td>\n",
       "      <td>0.164377</td>\n",
       "      <td>0.050210</td>\n",
       "    </tr>\n",
       "    <tr>\n",
       "      <th>4</th>\n",
       "      <td>0.4</td>\n",
       "      <td>0.162083</td>\n",
       "      <td>0.205112</td>\n",
       "      <td>0.043028</td>\n",
       "    </tr>\n",
       "    <tr>\n",
       "      <th>5</th>\n",
       "      <td>0.5</td>\n",
       "      <td>0.241042</td>\n",
       "      <td>0.277362</td>\n",
       "      <td>0.036320</td>\n",
       "    </tr>\n",
       "    <tr>\n",
       "      <th>6</th>\n",
       "      <td>0.6</td>\n",
       "      <td>0.345521</td>\n",
       "      <td>0.376596</td>\n",
       "      <td>0.031075</td>\n",
       "    </tr>\n",
       "    <tr>\n",
       "      <th>7</th>\n",
       "      <td>0.7</td>\n",
       "      <td>0.472760</td>\n",
       "      <td>0.500066</td>\n",
       "      <td>0.027305</td>\n",
       "    </tr>\n",
       "    <tr>\n",
       "      <th>8</th>\n",
       "      <td>0.8</td>\n",
       "      <td>0.621380</td>\n",
       "      <td>0.646105</td>\n",
       "      <td>0.024725</td>\n",
       "    </tr>\n",
       "    <tr>\n",
       "      <th>9</th>\n",
       "      <td>0.9</td>\n",
       "      <td>0.790690</td>\n",
       "      <td>0.813703</td>\n",
       "      <td>0.023013</td>\n",
       "    </tr>\n",
       "    <tr>\n",
       "      <th>10</th>\n",
       "      <td>1.0</td>\n",
       "      <td>0.980345</td>\n",
       "      <td>1.002246</td>\n",
       "      <td>0.021901</td>\n",
       "    </tr>\n",
       "  </tbody>\n",
       "</table>\n",
       "</div>"
      ],
      "text/plain": [
       "    t_i  w_i (approx. values)  y[t_i] (actual values)  actual error\n",
       "0   0.0              0.333333                0.333333      0.000000\n",
       "1   0.1              0.166667                0.212177      0.045510\n",
       "2   0.2              0.108333                0.162626      0.054293\n",
       "3   0.3              0.114167                0.164377      0.050210\n",
       "4   0.4              0.162083                0.205112      0.043028\n",
       "5   0.5              0.241042                0.277362      0.036320\n",
       "6   0.6              0.345521                0.376596      0.031075\n",
       "7   0.7              0.472760                0.500066      0.027305\n",
       "8   0.8              0.621380                0.646105      0.024725\n",
       "9   0.9              0.790690                0.813703      0.023013\n",
       "10  1.0              0.980345                1.002246      0.021901"
      ]
     },
     "execution_count": 10,
     "metadata": {},
     "output_type": "execute_result"
    }
   ],
   "source": [
    "def f(t, y):\n",
    "    return -5*y+5*t**2+2*t\n",
    "\n",
    "y = lambda t: t**2 + 1/3*e**(-5*t)\n",
    "\n",
    "data = {'t_i':[0, 0.1, 0.2, 0.3, 0.4, 0.5, 0.6, 0.7, 0.8, 0.9, 1.0],\n",
    "        'w_i (approx. values)':euler(0, 1, 10, 1/3),\n",
    "       'y[t_i] (actual values)':actual(0, 0.1, 10)}\n",
    "table = pd.DataFrame(data)\n",
    "table['actual error'] = table['y[t_i] (actual values)'] - table['w_i (approx. values)']\n",
    "table"
   ]
  },
  {
   "cell_type": "markdown",
   "metadata": {},
   "source": [
    "10\\. Given the initial-value problem $$y'=\\frac{1}{t^2}-\\frac{y}{t}-y^2, \\; 1\\leq t\\leq 2, \\; y(1)=-1,$$ with exact solution $y(t) = -1/t:$"
   ]
  },
  {
   "cell_type": "markdown",
   "metadata": {},
   "source": [
    "$\\;\\;\\;\\;$ a. Use Euler's method with $h = 0.05$ to approximate the solution and compare it with the actual\n",
    "values of $y$."
   ]
  },
  {
   "cell_type": "code",
   "execution_count": 11,
   "metadata": {},
   "outputs": [
    {
     "data": {
      "text/html": [
       "<div>\n",
       "<style scoped>\n",
       "    .dataframe tbody tr th:only-of-type {\n",
       "        vertical-align: middle;\n",
       "    }\n",
       "\n",
       "    .dataframe tbody tr th {\n",
       "        vertical-align: top;\n",
       "    }\n",
       "\n",
       "    .dataframe thead th {\n",
       "        text-align: right;\n",
       "    }\n",
       "</style>\n",
       "<table border=\"1\" class=\"dataframe\">\n",
       "  <thead>\n",
       "    <tr style=\"text-align: right;\">\n",
       "      <th></th>\n",
       "      <th>t_i</th>\n",
       "      <th>w_i (approx. values)</th>\n",
       "      <th>y[t_i] (actual values)</th>\n",
       "      <th>actual error</th>\n",
       "    </tr>\n",
       "  </thead>\n",
       "  <tbody>\n",
       "    <tr>\n",
       "      <th>0</th>\n",
       "      <td>1.00</td>\n",
       "      <td>-1.000000</td>\n",
       "      <td>-1.000000</td>\n",
       "      <td>0.000000</td>\n",
       "    </tr>\n",
       "    <tr>\n",
       "      <th>1</th>\n",
       "      <td>1.05</td>\n",
       "      <td>-0.950000</td>\n",
       "      <td>-0.952381</td>\n",
       "      <td>-0.002381</td>\n",
       "    </tr>\n",
       "    <tr>\n",
       "      <th>2</th>\n",
       "      <td>1.10</td>\n",
       "      <td>-0.904535</td>\n",
       "      <td>-0.909091</td>\n",
       "      <td>-0.004555</td>\n",
       "    </tr>\n",
       "    <tr>\n",
       "      <th>3</th>\n",
       "      <td>1.15</td>\n",
       "      <td>-0.863007</td>\n",
       "      <td>-0.869565</td>\n",
       "      <td>-0.006558</td>\n",
       "    </tr>\n",
       "    <tr>\n",
       "      <th>4</th>\n",
       "      <td>1.20</td>\n",
       "      <td>-0.824917</td>\n",
       "      <td>-0.833333</td>\n",
       "      <td>-0.008416</td>\n",
       "    </tr>\n",
       "    <tr>\n",
       "      <th>5</th>\n",
       "      <td>1.25</td>\n",
       "      <td>-0.789848</td>\n",
       "      <td>-0.800000</td>\n",
       "      <td>-0.010152</td>\n",
       "    </tr>\n",
       "    <tr>\n",
       "      <th>6</th>\n",
       "      <td>1.30</td>\n",
       "      <td>-0.757447</td>\n",
       "      <td>-0.769231</td>\n",
       "      <td>-0.011784</td>\n",
       "    </tr>\n",
       "    <tr>\n",
       "      <th>7</th>\n",
       "      <td>1.35</td>\n",
       "      <td>-0.727415</td>\n",
       "      <td>-0.740741</td>\n",
       "      <td>-0.013326</td>\n",
       "    </tr>\n",
       "    <tr>\n",
       "      <th>8</th>\n",
       "      <td>1.40</td>\n",
       "      <td>-0.699495</td>\n",
       "      <td>-0.714286</td>\n",
       "      <td>-0.014791</td>\n",
       "    </tr>\n",
       "    <tr>\n",
       "      <th>9</th>\n",
       "      <td>1.45</td>\n",
       "      <td>-0.673467</td>\n",
       "      <td>-0.689655</td>\n",
       "      <td>-0.016188</td>\n",
       "    </tr>\n",
       "    <tr>\n",
       "      <th>10</th>\n",
       "      <td>1.50</td>\n",
       "      <td>-0.649141</td>\n",
       "      <td>-0.666667</td>\n",
       "      <td>-0.017525</td>\n",
       "    </tr>\n",
       "    <tr>\n",
       "      <th>11</th>\n",
       "      <td>1.55</td>\n",
       "      <td>-0.626350</td>\n",
       "      <td>-0.645161</td>\n",
       "      <td>-0.018811</td>\n",
       "    </tr>\n",
       "    <tr>\n",
       "      <th>12</th>\n",
       "      <td>1.60</td>\n",
       "      <td>-0.604949</td>\n",
       "      <td>-0.625000</td>\n",
       "      <td>-0.020051</td>\n",
       "    </tr>\n",
       "    <tr>\n",
       "      <th>13</th>\n",
       "      <td>1.65</td>\n",
       "      <td>-0.584812</td>\n",
       "      <td>-0.606061</td>\n",
       "      <td>-0.021249</td>\n",
       "    </tr>\n",
       "    <tr>\n",
       "      <th>14</th>\n",
       "      <td>1.70</td>\n",
       "      <td>-0.565825</td>\n",
       "      <td>-0.588235</td>\n",
       "      <td>-0.022410</td>\n",
       "    </tr>\n",
       "    <tr>\n",
       "      <th>15</th>\n",
       "      <td>1.75</td>\n",
       "      <td>-0.547890</td>\n",
       "      <td>-0.571429</td>\n",
       "      <td>-0.023539</td>\n",
       "    </tr>\n",
       "    <tr>\n",
       "      <th>16</th>\n",
       "      <td>1.80</td>\n",
       "      <td>-0.530918</td>\n",
       "      <td>-0.555556</td>\n",
       "      <td>-0.024637</td>\n",
       "    </tr>\n",
       "    <tr>\n",
       "      <th>17</th>\n",
       "      <td>1.85</td>\n",
       "      <td>-0.514832</td>\n",
       "      <td>-0.540541</td>\n",
       "      <td>-0.025708</td>\n",
       "    </tr>\n",
       "    <tr>\n",
       "      <th>18</th>\n",
       "      <td>1.90</td>\n",
       "      <td>-0.499561</td>\n",
       "      <td>-0.526316</td>\n",
       "      <td>-0.026754</td>\n",
       "    </tr>\n",
       "    <tr>\n",
       "      <th>19</th>\n",
       "      <td>1.95</td>\n",
       "      <td>-0.485043</td>\n",
       "      <td>-0.512821</td>\n",
       "      <td>-0.027778</td>\n",
       "    </tr>\n",
       "    <tr>\n",
       "      <th>20</th>\n",
       "      <td>2.00</td>\n",
       "      <td>-0.471220</td>\n",
       "      <td>-0.500000</td>\n",
       "      <td>-0.028780</td>\n",
       "    </tr>\n",
       "  </tbody>\n",
       "</table>\n",
       "</div>"
      ],
      "text/plain": [
       "     t_i  w_i (approx. values)  y[t_i] (actual values)  actual error\n",
       "0   1.00             -1.000000               -1.000000      0.000000\n",
       "1   1.05             -0.950000               -0.952381     -0.002381\n",
       "2   1.10             -0.904535               -0.909091     -0.004555\n",
       "3   1.15             -0.863007               -0.869565     -0.006558\n",
       "4   1.20             -0.824917               -0.833333     -0.008416\n",
       "5   1.25             -0.789848               -0.800000     -0.010152\n",
       "6   1.30             -0.757447               -0.769231     -0.011784\n",
       "7   1.35             -0.727415               -0.740741     -0.013326\n",
       "8   1.40             -0.699495               -0.714286     -0.014791\n",
       "9   1.45             -0.673467               -0.689655     -0.016188\n",
       "10  1.50             -0.649141               -0.666667     -0.017525\n",
       "11  1.55             -0.626350               -0.645161     -0.018811\n",
       "12  1.60             -0.604949               -0.625000     -0.020051\n",
       "13  1.65             -0.584812               -0.606061     -0.021249\n",
       "14  1.70             -0.565825               -0.588235     -0.022410\n",
       "15  1.75             -0.547890               -0.571429     -0.023539\n",
       "16  1.80             -0.530918               -0.555556     -0.024637\n",
       "17  1.85             -0.514832               -0.540541     -0.025708\n",
       "18  1.90             -0.499561               -0.526316     -0.026754\n",
       "19  1.95             -0.485043               -0.512821     -0.027778\n",
       "20  2.00             -0.471220               -0.500000     -0.028780"
      ]
     },
     "execution_count": 11,
     "metadata": {},
     "output_type": "execute_result"
    }
   ],
   "source": [
    "def f(t,y):\n",
    "    return 1/(t**2) - y/t - y**2 \n",
    "\n",
    "def t_i(a, h, N):\n",
    "    t = a\n",
    "    lst = [a]\n",
    "    for i in range(N):\n",
    "        t = t + h \n",
    "        lst.append(t)\n",
    "    return lst \n",
    "    \n",
    "y = lambda t: -1/t\n",
    "\n",
    "data = {'t_i':t_i(1, 0.05, 20),\n",
    "        'w_i (approx. values)':euler(1, 2, 20, -1),\n",
    "       'y[t_i] (actual values)':actual(1, 0.05, 20)}\n",
    "table = pd.DataFrame(data)\n",
    "table['actual error'] = table['y[t_i] (actual values)'] - table['w_i (approx. values)']\n",
    "table"
   ]
  },
  {
   "cell_type": "markdown",
   "metadata": {},
   "source": [
    "$\\;\\;\\;\\;$ b. Use the answers generated in part (a) and linear interpolation to approximate the following values of $y$ and compare them to the actual values."
   ]
  },
  {
   "cell_type": "markdown",
   "metadata": {},
   "source": [
    "$\\;\\;\\;\\;\\;\\;\\;\\;$ i. $y(1.052)$"
   ]
  },
  {
   "cell_type": "code",
   "execution_count": 12,
   "metadata": {},
   "outputs": [
    {
     "name": "stdout",
     "output_type": "stream",
     "text": [
      "exact = -0.6657789613848203\n",
      "approx. = -0.9481814\n",
      "actual error = 0.28240243861517966\n"
     ]
    }
   ],
   "source": [
    "print('exact =', -1/1.502)\n",
    "print('approx. =', -0.95+(-0.904535+0.95)/(1.1-1.05)*(1.052-1.05))\n",
    "print('actual error =', -1/1.502 - (-0.95+(-0.904535+0.95)/(1.1-1.05)*(1.052-1.05)))"
   ]
  },
  {
   "cell_type": "markdown",
   "metadata": {},
   "source": [
    "$\\;\\;\\;\\;\\;\\;\\;\\;$ ii. $y(1.555)$"
   ]
  },
  {
   "cell_type": "code",
   "execution_count": 13,
   "metadata": {},
   "outputs": [
    {
     "name": "stdout",
     "output_type": "stream",
     "text": [
      "exact = -0.6430868167202572\n",
      "approx. = -0.6242099\n",
      "actual error = 0.018876916720257264\n"
     ]
    }
   ],
   "source": [
    "print('exact =', -1/1.555)\n",
    "print('approx. =', -0.626350+(-0.604949+0.626350)/(1.6-1.55)*(1.555-1.55))\n",
    "print('actual error =', abs(-1/1.555 - (-0.626350+(-0.604949+0.626350)/(1.6-1.55)*(1.555-1.55))))"
   ]
  },
  {
   "cell_type": "markdown",
   "metadata": {},
   "source": [
    "$\\;\\;\\;\\;\\;\\;\\;\\;$ iii. $y(1.978)$"
   ]
  },
  {
   "cell_type": "code",
   "execution_count": 14,
   "metadata": {},
   "outputs": [
    {
     "name": "stdout",
     "output_type": "stream",
     "text": [
      "exact = -0.5055611729019212\n",
      "approx. = -0.47730212\n",
      "actual error = 0.028259052901921156\n"
     ]
    }
   ],
   "source": [
    "print('exact =', -1/1.978)\n",
    "print('approx. =', -0.485043+(-0.47122+0.485043)/(2-1.95)*(1.978-1.95))\n",
    "print('actual error =', abs(-1/1.978 -(-0.485043+(-0.47122+0.485043)/(2-1.95)*(1.978-1.95))))"
   ]
  },
  {
   "cell_type": "markdown",
   "metadata": {},
   "source": [
    "$\\;\\;\\;\\;$ c. Compute the value of $h$ necessary for $|y(t_i) - w_i| \\leq 0.05,$ using Eq. (5.10)."
   ]
  },
  {
   "cell_type": "markdown",
   "metadata": {},
   "source": [
    "$\\;\\;\\;\\;$ _Sol._ By eq. 5.10, and with $L=1, M=2$, we get that $h=0.0290988$. "
   ]
  },
  {
   "cell_type": "markdown",
   "metadata": {},
   "source": [
    "12\\. Consider the initial-value problem $$y'=-10y, \\; 0\\leq t \\leq 2, \\; y(0) = 1,$$ which has solution $y(t) = e^{-10t}.$ What happens when Euler's method is applied to this problem with $h=0.1$? Does this behavior violate Theorem 5.9?"
   ]
  },
  {
   "cell_type": "markdown",
   "metadata": {},
   "source": [
    "$\\;\\;\\;\\;$ _Sol._ When the Euler's method is applied, the approximations are zero which are not adequate approximations. This behavior does not violate Theorem 5.9. "
   ]
  },
  {
   "cell_type": "markdown",
   "metadata": {},
   "source": [
    "16\\. In a circuit with impressed voltage $\\varepsilon$ having resistance $R$, inductance $L$, and capacitance $C$ in parallel, the current $i$ satisfies the differential equation $$\\frac{di}{dt} = C\\frac{d^2\\varepsilon}{dt^2} + \\frac{1}{R}{d\\varepsilon}{dt} + \\frac{1}{L}\\varepsilon.$$ Suppose $C=0.3$ farads, $R = 1.4$ ohms, and $L=1.7$ henries and the voltage is given by $$\\varepsilon(t) = e^{-0.06\\pi t}\\sin(2t - \\pi).$$ If $i(0) = 0$, find the current $i$ for the values $t=0.1j$, where $j=0,1,...,100$. "
   ]
  },
  {
   "cell_type": "code",
   "execution_count": 15,
   "metadata": {},
   "outputs": [
    {
     "data": {
      "text/html": [
       "<div>\n",
       "<style scoped>\n",
       "    .dataframe tbody tr th:only-of-type {\n",
       "        vertical-align: middle;\n",
       "    }\n",
       "\n",
       "    .dataframe tbody tr th {\n",
       "        vertical-align: top;\n",
       "    }\n",
       "\n",
       "    .dataframe thead th {\n",
       "        text-align: right;\n",
       "    }\n",
       "</style>\n",
       "<table border=\"1\" class=\"dataframe\">\n",
       "  <thead>\n",
       "    <tr style=\"text-align: right;\">\n",
       "      <th></th>\n",
       "      <th>t_i</th>\n",
       "      <th>w_i (approx. values)</th>\n",
       "    </tr>\n",
       "  </thead>\n",
       "  <tbody>\n",
       "    <tr>\n",
       "      <th>0</th>\n",
       "      <td>0.0</td>\n",
       "      <td>-1.000000</td>\n",
       "    </tr>\n",
       "    <tr>\n",
       "      <th>1</th>\n",
       "      <td>0.1</td>\n",
       "      <td>-1.120238</td>\n",
       "    </tr>\n",
       "    <tr>\n",
       "      <th>2</th>\n",
       "      <td>0.2</td>\n",
       "      <td>-1.221535</td>\n",
       "    </tr>\n",
       "    <tr>\n",
       "      <th>3</th>\n",
       "      <td>0.3</td>\n",
       "      <td>-1.300593</td>\n",
       "    </tr>\n",
       "    <tr>\n",
       "      <th>4</th>\n",
       "      <td>0.4</td>\n",
       "      <td>-1.355114</td>\n",
       "    </tr>\n",
       "    <tr>\n",
       "      <th>5</th>\n",
       "      <td>0.5</td>\n",
       "      <td>-1.383855</td>\n",
       "    </tr>\n",
       "    <tr>\n",
       "      <th>6</th>\n",
       "      <td>0.6</td>\n",
       "      <td>-1.386634</td>\n",
       "    </tr>\n",
       "    <tr>\n",
       "      <th>7</th>\n",
       "      <td>0.7</td>\n",
       "      <td>-1.364303</td>\n",
       "    </tr>\n",
       "    <tr>\n",
       "      <th>8</th>\n",
       "      <td>0.8</td>\n",
       "      <td>-1.318672</td>\n",
       "    </tr>\n",
       "    <tr>\n",
       "      <th>9</th>\n",
       "      <td>0.9</td>\n",
       "      <td>-1.252404</td>\n",
       "    </tr>\n",
       "    <tr>\n",
       "      <th>10</th>\n",
       "      <td>1.0</td>\n",
       "      <td>-1.168878</td>\n",
       "    </tr>\n",
       "    <tr>\n",
       "      <th>11</th>\n",
       "      <td>1.1</td>\n",
       "      <td>-1.072029</td>\n",
       "    </tr>\n",
       "    <tr>\n",
       "      <th>12</th>\n",
       "      <td>1.2</td>\n",
       "      <td>-0.966174</td>\n",
       "    </tr>\n",
       "    <tr>\n",
       "      <th>13</th>\n",
       "      <td>1.3</td>\n",
       "      <td>-0.855824</td>\n",
       "    </tr>\n",
       "    <tr>\n",
       "      <th>14</th>\n",
       "      <td>1.4</td>\n",
       "      <td>-0.745500</td>\n",
       "    </tr>\n",
       "    <tr>\n",
       "      <th>15</th>\n",
       "      <td>1.5</td>\n",
       "      <td>-0.639557</td>\n",
       "    </tr>\n",
       "    <tr>\n",
       "      <th>16</th>\n",
       "      <td>1.6</td>\n",
       "      <td>-0.542013</td>\n",
       "    </tr>\n",
       "    <tr>\n",
       "      <th>17</th>\n",
       "      <td>1.7</td>\n",
       "      <td>-0.456408</td>\n",
       "    </tr>\n",
       "    <tr>\n",
       "      <th>18</th>\n",
       "      <td>1.8</td>\n",
       "      <td>-0.385681</td>\n",
       "    </tr>\n",
       "    <tr>\n",
       "      <th>19</th>\n",
       "      <td>1.9</td>\n",
       "      <td>-0.332070</td>\n",
       "    </tr>\n",
       "    <tr>\n",
       "      <th>20</th>\n",
       "      <td>2.0</td>\n",
       "      <td>-0.297061</td>\n",
       "    </tr>\n",
       "    <tr>\n",
       "      <th>21</th>\n",
       "      <td>2.1</td>\n",
       "      <td>-0.281345</td>\n",
       "    </tr>\n",
       "    <tr>\n",
       "      <th>22</th>\n",
       "      <td>2.2</td>\n",
       "      <td>-0.284831</td>\n",
       "    </tr>\n",
       "    <tr>\n",
       "      <th>23</th>\n",
       "      <td>2.3</td>\n",
       "      <td>-0.306668</td>\n",
       "    </tr>\n",
       "    <tr>\n",
       "      <th>24</th>\n",
       "      <td>2.4</td>\n",
       "      <td>-0.345318</td>\n",
       "    </tr>\n",
       "    <tr>\n",
       "      <th>25</th>\n",
       "      <td>2.5</td>\n",
       "      <td>-0.398632</td>\n",
       "    </tr>\n",
       "    <tr>\n",
       "      <th>26</th>\n",
       "      <td>2.6</td>\n",
       "      <td>-0.463963</td>\n",
       "    </tr>\n",
       "    <tr>\n",
       "      <th>27</th>\n",
       "      <td>2.7</td>\n",
       "      <td>-0.538289</td>\n",
       "    </tr>\n",
       "    <tr>\n",
       "      <th>28</th>\n",
       "      <td>2.8</td>\n",
       "      <td>-0.618342</td>\n",
       "    </tr>\n",
       "    <tr>\n",
       "      <th>29</th>\n",
       "      <td>2.9</td>\n",
       "      <td>-0.700750</td>\n",
       "    </tr>\n",
       "    <tr>\n",
       "      <th>...</th>\n",
       "      <td>...</td>\n",
       "      <td>...</td>\n",
       "    </tr>\n",
       "    <tr>\n",
       "      <th>71</th>\n",
       "      <td>7.1</td>\n",
       "      <td>-0.923115</td>\n",
       "    </tr>\n",
       "    <tr>\n",
       "      <th>72</th>\n",
       "      <td>7.2</td>\n",
       "      <td>-0.901875</td>\n",
       "    </tr>\n",
       "    <tr>\n",
       "      <th>73</th>\n",
       "      <td>7.3</td>\n",
       "      <td>-0.875547</td>\n",
       "    </tr>\n",
       "    <tr>\n",
       "      <th>74</th>\n",
       "      <td>7.4</td>\n",
       "      <td>-0.845359</td>\n",
       "    </tr>\n",
       "    <tr>\n",
       "      <th>75</th>\n",
       "      <td>7.5</td>\n",
       "      <td>-0.812645</td>\n",
       "    </tr>\n",
       "    <tr>\n",
       "      <th>76</th>\n",
       "      <td>7.6</td>\n",
       "      <td>-0.778789</td>\n",
       "    </tr>\n",
       "    <tr>\n",
       "      <th>77</th>\n",
       "      <td>7.7</td>\n",
       "      <td>-0.745171</td>\n",
       "    </tr>\n",
       "    <tr>\n",
       "      <th>78</th>\n",
       "      <td>7.8</td>\n",
       "      <td>-0.713108</td>\n",
       "    </tr>\n",
       "    <tr>\n",
       "      <th>79</th>\n",
       "      <td>7.9</td>\n",
       "      <td>-0.683808</td>\n",
       "    </tr>\n",
       "    <tr>\n",
       "      <th>80</th>\n",
       "      <td>8.0</td>\n",
       "      <td>-0.658326</td>\n",
       "    </tr>\n",
       "    <tr>\n",
       "      <th>81</th>\n",
       "      <td>8.1</td>\n",
       "      <td>-0.637526</td>\n",
       "    </tr>\n",
       "    <tr>\n",
       "      <th>82</th>\n",
       "      <td>8.2</td>\n",
       "      <td>-0.622056</td>\n",
       "    </tr>\n",
       "    <tr>\n",
       "      <th>83</th>\n",
       "      <td>8.3</td>\n",
       "      <td>-0.612329</td>\n",
       "    </tr>\n",
       "    <tr>\n",
       "      <th>84</th>\n",
       "      <td>8.4</td>\n",
       "      <td>-0.608517</td>\n",
       "    </tr>\n",
       "    <tr>\n",
       "      <th>85</th>\n",
       "      <td>8.5</td>\n",
       "      <td>-0.610552</td>\n",
       "    </tr>\n",
       "    <tr>\n",
       "      <th>86</th>\n",
       "      <td>8.6</td>\n",
       "      <td>-0.618136</td>\n",
       "    </tr>\n",
       "    <tr>\n",
       "      <th>87</th>\n",
       "      <td>8.7</td>\n",
       "      <td>-0.630766</td>\n",
       "    </tr>\n",
       "    <tr>\n",
       "      <th>88</th>\n",
       "      <td>8.8</td>\n",
       "      <td>-0.647755</td>\n",
       "    </tr>\n",
       "    <tr>\n",
       "      <th>89</th>\n",
       "      <td>8.9</td>\n",
       "      <td>-0.668273</td>\n",
       "    </tr>\n",
       "    <tr>\n",
       "      <th>90</th>\n",
       "      <td>9.0</td>\n",
       "      <td>-0.691378</td>\n",
       "    </tr>\n",
       "    <tr>\n",
       "      <th>91</th>\n",
       "      <td>9.1</td>\n",
       "      <td>-0.716064</td>\n",
       "    </tr>\n",
       "    <tr>\n",
       "      <th>92</th>\n",
       "      <td>9.2</td>\n",
       "      <td>-0.741296</td>\n",
       "    </tr>\n",
       "    <tr>\n",
       "      <th>93</th>\n",
       "      <td>9.3</td>\n",
       "      <td>-0.766059</td>\n",
       "    </tr>\n",
       "    <tr>\n",
       "      <th>94</th>\n",
       "      <td>9.4</td>\n",
       "      <td>-0.789393</td>\n",
       "    </tr>\n",
       "    <tr>\n",
       "      <th>95</th>\n",
       "      <td>9.5</td>\n",
       "      <td>-0.810430</td>\n",
       "    </tr>\n",
       "    <tr>\n",
       "      <th>96</th>\n",
       "      <td>9.6</td>\n",
       "      <td>-0.828425</td>\n",
       "    </tr>\n",
       "    <tr>\n",
       "      <th>97</th>\n",
       "      <td>9.7</td>\n",
       "      <td>-0.842779</td>\n",
       "    </tr>\n",
       "    <tr>\n",
       "      <th>98</th>\n",
       "      <td>9.8</td>\n",
       "      <td>-0.853060</td>\n",
       "    </tr>\n",
       "    <tr>\n",
       "      <th>99</th>\n",
       "      <td>9.9</td>\n",
       "      <td>-0.859015</td>\n",
       "    </tr>\n",
       "    <tr>\n",
       "      <th>100</th>\n",
       "      <td>10.0</td>\n",
       "      <td>-0.860567</td>\n",
       "    </tr>\n",
       "  </tbody>\n",
       "</table>\n",
       "<p>101 rows × 2 columns</p>\n",
       "</div>"
      ],
      "text/plain": [
       "      t_i  w_i (approx. values)\n",
       "0     0.0             -1.000000\n",
       "1     0.1             -1.120238\n",
       "2     0.2             -1.221535\n",
       "3     0.3             -1.300593\n",
       "4     0.4             -1.355114\n",
       "5     0.5             -1.383855\n",
       "6     0.6             -1.386634\n",
       "7     0.7             -1.364303\n",
       "8     0.8             -1.318672\n",
       "9     0.9             -1.252404\n",
       "10    1.0             -1.168878\n",
       "11    1.1             -1.072029\n",
       "12    1.2             -0.966174\n",
       "13    1.3             -0.855824\n",
       "14    1.4             -0.745500\n",
       "15    1.5             -0.639557\n",
       "16    1.6             -0.542013\n",
       "17    1.7             -0.456408\n",
       "18    1.8             -0.385681\n",
       "19    1.9             -0.332070\n",
       "20    2.0             -0.297061\n",
       "21    2.1             -0.281345\n",
       "22    2.2             -0.284831\n",
       "23    2.3             -0.306668\n",
       "24    2.4             -0.345318\n",
       "25    2.5             -0.398632\n",
       "26    2.6             -0.463963\n",
       "27    2.7             -0.538289\n",
       "28    2.8             -0.618342\n",
       "29    2.9             -0.700750\n",
       "..    ...                   ...\n",
       "71    7.1             -0.923115\n",
       "72    7.2             -0.901875\n",
       "73    7.3             -0.875547\n",
       "74    7.4             -0.845359\n",
       "75    7.5             -0.812645\n",
       "76    7.6             -0.778789\n",
       "77    7.7             -0.745171\n",
       "78    7.8             -0.713108\n",
       "79    7.9             -0.683808\n",
       "80    8.0             -0.658326\n",
       "81    8.1             -0.637526\n",
       "82    8.2             -0.622056\n",
       "83    8.3             -0.612329\n",
       "84    8.4             -0.608517\n",
       "85    8.5             -0.610552\n",
       "86    8.6             -0.618136\n",
       "87    8.7             -0.630766\n",
       "88    8.8             -0.647755\n",
       "89    8.9             -0.668273\n",
       "90    9.0             -0.691378\n",
       "91    9.1             -0.716064\n",
       "92    9.2             -0.741296\n",
       "93    9.3             -0.766059\n",
       "94    9.4             -0.789393\n",
       "95    9.5             -0.810430\n",
       "96    9.6             -0.828425\n",
       "97    9.7             -0.842779\n",
       "98    9.8             -0.853060\n",
       "99    9.9             -0.859015\n",
       "100  10.0             -0.860567\n",
       "\n",
       "[101 rows x 2 columns]"
      ]
     },
     "execution_count": 15,
     "metadata": {},
     "output_type": "execute_result"
    }
   ],
   "source": [
    "def f(t,y):\n",
    "    return e**(-0.188496*t)*(-1.20238*cos(2*t)+0.735745*sin(2*t))\n",
    "\n",
    "data = {'t_i':t_i(0, 0.1, 100),\n",
    "        'w_i (approx. values)':euler(0, 10, 100, -1)}\n",
    "table = pd.DataFrame(data)\n",
    "table"
   ]
  },
  {
   "cell_type": "markdown",
   "metadata": {},
   "source": [
    "(Section 5.3)"
   ]
  },
  {
   "cell_type": "markdown",
   "metadata": {},
   "source": [
    "1\\. Use Taylor's method of order two to approximate the solutions for each of the following initial-value\n",
    "problems. "
   ]
  },
  {
   "cell_type": "markdown",
   "metadata": {},
   "source": [
    "$\\;\\;\\;\\;$ b. $y' = 1 + (t-y)^2, \\; 2\\leq t \\leq 3, \\; y(2)=1,$ with $h=0.5$"
   ]
  },
  {
   "cell_type": "code",
   "execution_count": 16,
   "metadata": {},
   "outputs": [
    {
     "data": {
      "text/html": [
       "<div>\n",
       "<style scoped>\n",
       "    .dataframe tbody tr th:only-of-type {\n",
       "        vertical-align: middle;\n",
       "    }\n",
       "\n",
       "    .dataframe tbody tr th {\n",
       "        vertical-align: top;\n",
       "    }\n",
       "\n",
       "    .dataframe thead th {\n",
       "        text-align: right;\n",
       "    }\n",
       "</style>\n",
       "<table border=\"1\" class=\"dataframe\">\n",
       "  <thead>\n",
       "    <tr style=\"text-align: right;\">\n",
       "      <th></th>\n",
       "      <th>t_i</th>\n",
       "      <th>w_i</th>\n",
       "      <th>y[t_i]</th>\n",
       "    </tr>\n",
       "  </thead>\n",
       "  <tbody>\n",
       "    <tr>\n",
       "      <th>0</th>\n",
       "      <td>2.5</td>\n",
       "      <td>1.75000</td>\n",
       "      <td>1.8333</td>\n",
       "    </tr>\n",
       "    <tr>\n",
       "      <th>1</th>\n",
       "      <td>3.0</td>\n",
       "      <td>2.42578</td>\n",
       "      <td>2.5000</td>\n",
       "    </tr>\n",
       "  </tbody>\n",
       "</table>\n",
       "</div>"
      ],
      "text/plain": [
       "   t_i      w_i  y[t_i]\n",
       "0  2.5  1.75000  1.8333\n",
       "1  3.0  2.42578  2.5000"
      ]
     },
     "execution_count": 16,
     "metadata": {},
     "output_type": "execute_result"
    }
   ],
   "source": [
    "pd.DataFrame({'t_i':[2.5, 3], 'w_i':[1.75, 2.42578], 'y[t_i]':[1.8333, 2.5]})"
   ]
  },
  {
   "cell_type": "markdown",
   "metadata": {},
   "source": [
    "$\\;\\;\\;\\;$ d. $y' = \\cos 22t + \\sin 3t,\\; 0\\leq t\\leq 1, \\; y(0) = 1,$ with $h=0.25$"
   ]
  },
  {
   "cell_type": "code",
   "execution_count": 17,
   "metadata": {},
   "outputs": [
    {
     "data": {
      "text/html": [
       "<div>\n",
       "<style scoped>\n",
       "    .dataframe tbody tr th:only-of-type {\n",
       "        vertical-align: middle;\n",
       "    }\n",
       "\n",
       "    .dataframe tbody tr th {\n",
       "        vertical-align: top;\n",
       "    }\n",
       "\n",
       "    .dataframe thead th {\n",
       "        text-align: right;\n",
       "    }\n",
       "</style>\n",
       "<table border=\"1\" class=\"dataframe\">\n",
       "  <thead>\n",
       "    <tr style=\"text-align: right;\">\n",
       "      <th></th>\n",
       "      <th>t_i</th>\n",
       "      <th>w_i</th>\n",
       "      <th>y[t_i]</th>\n",
       "    </tr>\n",
       "  </thead>\n",
       "  <tbody>\n",
       "    <tr>\n",
       "      <th>0</th>\n",
       "      <td>1.25</td>\n",
       "      <td>2.78125</td>\n",
       "      <td>-2.75000</td>\n",
       "    </tr>\n",
       "    <tr>\n",
       "      <th>1</th>\n",
       "      <td>1.50</td>\n",
       "      <td>3.61250</td>\n",
       "      <td>-0.50000</td>\n",
       "    </tr>\n",
       "    <tr>\n",
       "      <th>2</th>\n",
       "      <td>1.75</td>\n",
       "      <td>4.48542</td>\n",
       "      <td>0.41667</td>\n",
       "    </tr>\n",
       "    <tr>\n",
       "      <th>3</th>\n",
       "      <td>2.00</td>\n",
       "      <td>5.39405</td>\n",
       "      <td>1.00000</td>\n",
       "    </tr>\n",
       "  </tbody>\n",
       "</table>\n",
       "</div>"
      ],
      "text/plain": [
       "    t_i      w_i   y[t_i]\n",
       "0  1.25  2.78125 -2.75000\n",
       "1  1.50  3.61250 -0.50000\n",
       "2  1.75  4.48542  0.41667\n",
       "3  2.00  5.39405  1.00000"
      ]
     },
     "execution_count": 17,
     "metadata": {},
     "output_type": "execute_result"
    }
   ],
   "source": [
    "pd.DataFrame({'t_i':[1.25, 1.5, 1.75, 2], 'w_i':[2.78125, 3.6125, 4.48542, 5.39405], 'y[t_i]':[-2.75, -0.5, 0.41667, 1]})"
   ]
  },
  {
   "cell_type": "markdown",
   "metadata": {},
   "source": [
    "3\\. Repeat Exercise 1 using Taylor's method of order four."
   ]
  },
  {
   "cell_type": "markdown",
   "metadata": {},
   "source": [
    "$\\;\\;\\;\\;$ b. $y' = 1 + (t-y)^2, \\; 2\\leq t \\leq 3, \\; y(2)=1,$ with $h=0.5$"
   ]
  },
  {
   "cell_type": "code",
   "execution_count": 18,
   "metadata": {},
   "outputs": [
    {
     "data": {
      "text/html": [
       "<div>\n",
       "<style scoped>\n",
       "    .dataframe tbody tr th:only-of-type {\n",
       "        vertical-align: middle;\n",
       "    }\n",
       "\n",
       "    .dataframe tbody tr th {\n",
       "        vertical-align: top;\n",
       "    }\n",
       "\n",
       "    .dataframe thead th {\n",
       "        text-align: right;\n",
       "    }\n",
       "</style>\n",
       "<table border=\"1\" class=\"dataframe\">\n",
       "  <thead>\n",
       "    <tr style=\"text-align: right;\">\n",
       "      <th></th>\n",
       "      <th>t_i</th>\n",
       "      <th>w_i</th>\n",
       "      <th>y[t_i]</th>\n",
       "    </tr>\n",
       "  </thead>\n",
       "  <tbody>\n",
       "    <tr>\n",
       "      <th>0</th>\n",
       "      <td>2.5</td>\n",
       "      <td>1.81250</td>\n",
       "      <td>1.8333</td>\n",
       "    </tr>\n",
       "    <tr>\n",
       "      <th>1</th>\n",
       "      <td>3.0</td>\n",
       "      <td>2.48592</td>\n",
       "      <td>2.5000</td>\n",
       "    </tr>\n",
       "  </tbody>\n",
       "</table>\n",
       "</div>"
      ],
      "text/plain": [
       "   t_i      w_i  y[t_i]\n",
       "0  2.5  1.81250  1.8333\n",
       "1  3.0  2.48592  2.5000"
      ]
     },
     "execution_count": 18,
     "metadata": {},
     "output_type": "execute_result"
    }
   ],
   "source": [
    "pd.DataFrame({'t_i':[2.5, 3], 'w_i':[1.8125, 2.48592], 'y[t_i]':[1.8333, 2.5]})"
   ]
  },
  {
   "cell_type": "markdown",
   "metadata": {},
   "source": [
    "$\\;\\;\\;\\;$ d. $y' = \\cos 22t + \\sin 3t,\\; 0\\leq t\\leq 1, \\; y(0) = 1,$ with $h=0.25$"
   ]
  },
  {
   "cell_type": "code",
   "execution_count": 19,
   "metadata": {},
   "outputs": [
    {
     "ename": "SyntaxError",
     "evalue": "invalid syntax (<ipython-input-19-ce626dc47ecd>, line 1)",
     "output_type": "error",
     "traceback": [
      "\u001b[0;36m  File \u001b[0;32m\"<ipython-input-19-ce626dc47ecd>\"\u001b[0;36m, line \u001b[0;32m1\u001b[0m\n\u001b[0;31m    pd.DataFrame({'t_i':[1.25, 1.5, 1.75, 2], 'w_i':[2.77897, 3.60827, 4.47942, 5.3864, 'y[t_i]':[-2.75, -0.5, 0.41667, 1]})\u001b[0m\n\u001b[0m                                                                                                ^\u001b[0m\n\u001b[0;31mSyntaxError\u001b[0m\u001b[0;31m:\u001b[0m invalid syntax\n"
     ]
    }
   ],
   "source": [
    "pd.DataFrame({'t_i':[1.25, 1.5, 1.75, 2], 'w_i':[2.77897, 3.60827, 4.47942, 5.3864, 'y[t_i]':[-2.75, -0.5, 0.41667, 1]})"
   ]
  },
  {
   "cell_type": "markdown",
   "metadata": {},
   "source": [
    "6\\. Use Taylor's method of order two to approximate the solution for each of the following initial-value\n",
    "problems."
   ]
  },
  {
   "cell_type": "markdown",
   "metadata": {},
   "source": [
    "$\\;\\;\\;\\;$ b. $y' = \\frac{y^2}{1+t}, \\; 1\\leq t \\leq 2, \\; y(1)=-(\\ln 2)^{-1},$ with $h=0.1$"
   ]
  },
  {
   "cell_type": "code",
   "execution_count": null,
   "metadata": {},
   "outputs": [],
   "source": [
    "pd.DataFrame({'t_i':t_i(0, 0.1, 10), 'y_n':[1.0, 1.164788, 1.295423, 1.389542, 1.448865, 1.477837, 1.482162, 1.467652, 1.43951, 1.402174, 1.358967]})"
   ]
  },
  {
   "cell_type": "markdown",
   "metadata": {},
   "source": [
    "$\\;\\;\\;\\;$ c. $y' = (y^2 + y)/t, \\; 1\\leq t \\leq 3, \\; y(1)=-2,$ with $h=0.2$"
   ]
  },
  {
   "cell_type": "code",
   "execution_count": null,
   "metadata": {},
   "outputs": [],
   "source": [
    "pd.DataFrame({'t_i':t_i(0, 0.1, 10), 'y_n':[-1.442695, -1.352751, -1.276577, -1.211196, -1.154429, -1.104649, -1.060613, -1.021358, -0.986126, -0.954312, -0.925426]})"
   ]
  },
  {
   "cell_type": "markdown",
   "metadata": {},
   "source": [
    "8\\. Repeat Exercise 6 using Taylor's method of order four."
   ]
  },
  {
   "cell_type": "markdown",
   "metadata": {},
   "source": [
    "$\\;\\;\\;\\;$ b. $y' = \\frac{y^2}{1+t}, \\; 1\\leq t \\leq 2, \\; y(1)=-(\\ln 2)^{-1},$ with $h=0.1$"
   ]
  },
  {
   "cell_type": "code",
   "execution_count": null,
   "metadata": {},
   "outputs": [],
   "source": [
    "pd.DataFrame({'w_i':[-1.34783, -1.26831, -1.20063, -1.14226, -1.09137, -1.04657, -1.00681, -0.971246, -0.939235, -0.910252]})"
   ]
  },
  {
   "cell_type": "markdown",
   "metadata": {},
   "source": [
    "$\\;\\;\\;\\;$ c. $y' = (y^2 + y)/t, \\; 1\\leq t \\leq 3, \\; y(1)=-2,$ with $h=0.2$"
   ]
  },
  {
   "cell_type": "code",
   "execution_count": null,
   "metadata": {},
   "outputs": [],
   "source": [
    "pd.DataFrame({'t_i':[1.2, 1.4, 1.6,1.8,2,2.2,2.4,2.6,2.8,3], 'w_i':[-1.7216, -1.5618, -1.4958,-1.38874,-1.33681,-1.2971,-1.26577,-1.24042,-1.21948,-1.20189]})"
   ]
  },
  {
   "cell_type": "markdown",
   "metadata": {},
   "source": [
    "10\\. Given the initial-value problem $$y' = \\frac{1}{t^2}-\\frac{y}{t}-y^2, \\; 1\\leq t \\leq 2, \\; y(1)=-1,$$ with exact solution $y(t) = -1/t:$"
   ]
  },
  {
   "cell_type": "markdown",
   "metadata": {},
   "source": [
    "$\\;\\;\\;\\;$ a. Use Taylor's method of order two with $h=0.05$ to approximate the solution and compare it\n",
    "with the actual values of $y$."
   ]
  },
  {
   "cell_type": "code",
   "execution_count": null,
   "metadata": {},
   "outputs": [],
   "source": [
    "y = lambda t: -1/t\n",
    "act = actual(1, 0.05, 19)\n",
    "pd.DataFrame({'t_i':t_i(1.05, 0.05, 19),'w_i':[-0.95, -0.91, -0.87, -0.83, -0.8, -0.77, -0.74, -0.71, -0.69, -0.67, -0.65, -0.63, -0.6, -0.59, -0.57, -0.56, -0.54, -0.53, -0.51, -0.5], 'y[t_i]':act})"
   ]
  },
  {
   "cell_type": "markdown",
   "metadata": {},
   "source": [
    "$\\;\\;\\;\\;$ b. Use the answers generated in part (a) and linear interpolation to approximate the following values of $y$ and compare them to the actual values.\n",
    "\n",
    "$\\;\\;\\;\\;\\;\\;\\;\\;$ i. $y(1.052)$\n",
    "\n",
    "$\\;\\;\\;\\;\\;\\;\\;\\;$ ii. $y(1.555)$\n",
    "\n",
    "$\\;\\;\\;\\;\\;\\;\\;\\;$ iii. $y(1.978)$"
   ]
  },
  {
   "cell_type": "markdown",
   "metadata": {},
   "source": [
    "$\\;\\;\\;\\;$ c. Use Taylor's method of order four with $h = 0.1$ to approximate the solution and compare it with\n",
    "the actual values of $y$."
   ]
  },
  {
   "cell_type": "markdown",
   "metadata": {},
   "source": [
    "$\\;\\;\\;\\;$ d. Use the answers generated in part (c) and piecewise cubic Hermite interpolation to approximate\n",
    "$y$ at the following values and compare them to the actual values of $y$.\n",
    "\n",
    "$\\;\\;\\;\\;\\;\\;\\;\\;$ i. $y(1.052)$\n",
    "\n",
    "$\\;\\;\\;\\;\\;\\;\\;\\;$ ii. $y(1.555)$\n",
    "\n",
    "$\\;\\;\\;\\;\\;\\;\\;\\;$ iii. $y(1.978)$"
   ]
  }
 ],
 "metadata": {
  "kernelspec": {
   "display_name": "Python 3",
   "language": "python",
   "name": "python3"
  },
  "language_info": {
   "codemirror_mode": {
    "name": "ipython",
    "version": 3
   },
   "file_extension": ".py",
   "mimetype": "text/x-python",
   "name": "python",
   "nbconvert_exporter": "python",
   "pygments_lexer": "ipython3",
   "version": "3.6.8"
  }
 },
 "nbformat": 4,
 "nbformat_minor": 2
}
