{
 "cells": [
  {
   "cell_type": "markdown",
   "metadata": {},
   "source": [
    "# <center> MATH 104B - Homework 5 \n",
    "#### <center>By Emily Lu (Perm ID: 4707147)"
   ]
  },
  {
   "cell_type": "markdown",
   "metadata": {},
   "source": [
    "6.1: 1bd, 3, 5, 7bd, 12, 14 pg.389"
   ]
  },
  {
   "cell_type": "markdown",
   "metadata": {},
   "source": [
    "1\\. For each of the following linear systems, obtain a solution by graphical methods, if possible. Explain\n",
    "the results from a geometrical standpoint."
   ]
  },
  {
   "cell_type": "markdown",
   "metadata": {},
   "source": [
    "$\\;\\;\\;\\;$ b. $x_1 + 2x_2 = 3, \\\\ 2x_1+4x_2 = 6$"
   ]
  },
  {
   "cell_type": "code",
   "execution_count": null,
   "metadata": {},
   "outputs": [],
   "source": []
  },
  {
   "cell_type": "markdown",
   "metadata": {},
   "source": [
    "$\\;\\;\\;\\;$ d. $2x_1 + x_2 = -1,\\\\ 4x_1 + 2x_2 = -2, \\\\ x_1 -3x_2 = 5$"
   ]
  },
  {
   "cell_type": "code",
   "execution_count": null,
   "metadata": {},
   "outputs": [],
   "source": []
  },
  {
   "cell_type": "markdown",
   "metadata": {},
   "source": [
    "3\\. Use Gaussian elimination with backward substitution and two-digit rounding arithmetic to solve\n",
    "the following linear systems. Do not reorder the equations. (The exact solution to each system is $x_1=1,\\;x_2=-1,\\; x_3=3$)"
   ]
  },
  {
   "cell_type": "markdown",
   "metadata": {},
   "source": [
    "$\\;\\;\\;\\;$ a. $4x_1-x_2+x_3=8,\\\\ 2x_1+5x_2+3x_3=3, \\\\ x_1+2x_2+4x_3=11.$\n",
    "\n"
   ]
  },
  {
   "cell_type": "code",
   "execution_count": null,
   "metadata": {},
   "outputs": [],
   "source": []
  },
  {
   "cell_type": "markdown",
   "metadata": {},
   "source": [
    "$\\;\\;\\;\\;$ b. $4x_1+x_2+2x_3=9,\\\\ 2x_1+4x_2-x_3=-5,\\\\ x_1+x_2-3x_3=-9.$"
   ]
  },
  {
   "cell_type": "code",
   "execution_count": null,
   "metadata": {},
   "outputs": [],
   "source": []
  },
  {
   "cell_type": "markdown",
   "metadata": {},
   "source": [
    "5\\. Use the Gaussian Elimination Algorithm to solve the following linear systems, if possible, and determine\n",
    "whether row interchanges are necessary:"
   ]
  },
  {
   "cell_type": "markdown",
   "metadata": {},
   "source": [
    "$\\;\\;\\;\\;$ a. $x_1-x_2+3x_3=2,\\\\ 3x_1-3x_2+x_3=-1,\\\\ x_1+x_2=3.$\n",
    "\n"
   ]
  },
  {
   "cell_type": "code",
   "execution_count": null,
   "metadata": {},
   "outputs": [],
   "source": []
  },
  {
   "cell_type": "markdown",
   "metadata": {},
   "source": [
    "$\\;\\;\\;\\;$ b. $2x_1-1.5x_2+3x_3=1,\\\\ -x_1+2x_3=3,\\\\ 4x_1-4.5x_2+5x_3=1.$"
   ]
  },
  {
   "cell_type": "code",
   "execution_count": null,
   "metadata": {},
   "outputs": [],
   "source": []
  },
  {
   "cell_type": "markdown",
   "metadata": {},
   "source": [
    "$\\;\\;\\;\\;$ c. $2x_1 = 3,\\\\ x_1+1.5x_2=4.5,\\\\ -3x_2+0.5x_3=-6.6,\\\\ 2x_1-2x_2+x_3+x_4=0.8.$\n",
    "\n"
   ]
  },
  {
   "cell_type": "code",
   "execution_count": null,
   "metadata": {},
   "outputs": [],
   "source": []
  },
  {
   "cell_type": "markdown",
   "metadata": {},
   "source": [
    "$\\;\\;\\;\\;$ b. $x_1+x_2+x_4=2,\\\\ 2x_1+x_2-x_3+x_4=1,\\\\ 4x_1-x_2-2x_3+2x_4=0,\\\\ 3x_1-x_2-x_3+2x_4=-3.$"
   ]
  },
  {
   "cell_type": "markdown",
   "metadata": {},
   "source": [
    "7\\. Use Algorithm 6.1 and single precision computer arithmetic to solve the following linear systems."
   ]
  },
  {
   "cell_type": "markdown",
   "metadata": {},
   "source": [
    "$\\;\\;\\;\\;$ b. $3.333x_1+15920x_2-10.333x_3=15913,\\\\ 2.222x_1+16.71x_2+9.612x_3=28.544,\\\\ 1.5611x_1+5.1791x_2+1.6852x_3=8.4254$"
   ]
  },
  {
   "cell_type": "code",
   "execution_count": null,
   "metadata": {},
   "outputs": [],
   "source": []
  },
  {
   "cell_type": "markdown",
   "metadata": {},
   "source": [
    "$\\;\\;\\;\\;$ d. $2x_1+x_2-x_3+x_4-3x_5=7,\\\\ x_1+2x_3-x_4+x_5=2,\\\\ -2x_2-x_3+x_4-x_5=-5,\\\\ 3x_1+x_2-4x_3+5x_5=6,\\\\ x_1-x_2-x_3-x_4+x_5=3$"
   ]
  },
  {
   "cell_type": "code",
   "execution_count": null,
   "metadata": {},
   "outputs": [],
   "source": []
  },
  {
   "cell_type": "markdown",
   "metadata": {},
   "source": [
    "12\\. A Fredholm integral equation of the second kind is an equation of the form $$u(x)=f(x)+\\int_a^b K(x,t)u(t)dt,$$ where $a$ and $b$ and the functions $f$ and $K$ are given. To approximate the function _u_ on the interval [$a$,$b$], a partition $x_0=a<x_1<...<x_{m-1}<x_m=b$ is selected, and the equations $$u(x_i)=f(x_i)+\\int_a^b K(x_i,t)u(t)dt,\\; \\text{for each } i=0,...,m,$$ are solved for $u(x_0),u(x_1),...,u(x_m).$ The integrals are approximated using quadrature formulas\n",
    "based on the nodes $x_0,...,x_m.$ In our problem, $a=0,b=1,f(x)=x^2,$ and $K(x,t)=e^{|x-t|}.$"
   ]
  },
  {
   "cell_type": "markdown",
   "metadata": {},
   "source": [
    "$\\;\\;\\;\\;$ a. Show that the linear system $$u(0)=f(0)+\\frac{1}{2}[K(0,0)u(0) + K(0,1)u(1)],\\\\u(1)=f(1)+\\frac{1}{2}[K(1,0)u(0)+K(1,1)u(1)]$$ must be solved when the Trapezoidal rule is used."
   ]
  },
  {
   "cell_type": "code",
   "execution_count": null,
   "metadata": {},
   "outputs": [],
   "source": []
  },
  {
   "cell_type": "markdown",
   "metadata": {},
   "source": [
    "$\\;\\;\\;\\;$ b. Set up and solve the linear system that results when the Composite Trapezoidal rule is used with\n",
    "$n=4$."
   ]
  },
  {
   "cell_type": "code",
   "execution_count": null,
   "metadata": {},
   "outputs": [],
   "source": []
  },
  {
   "cell_type": "markdown",
   "metadata": {},
   "source": [
    "$\\;\\;\\;\\;$ c. Repeat part (b) using the Composite Simpson rule."
   ]
  },
  {
   "cell_type": "code",
   "execution_count": null,
   "metadata": {},
   "outputs": [],
   "source": []
  },
  {
   "cell_type": "markdown",
   "metadata": {},
   "source": [
    "14\\. Gauss-Jordan Method: This method is described as follows. Use the $i$th equation to eliminate $x_i$\n",
    "not only from the equations $E_{i+1},E_{i+2},...,E_{n}$ as was done in the Gaussian elimination method,\n",
    "but also from $E_1,E_2,...,E_{i-1}$. On reducing [A,**b**] to $$\\left[\\begin{array}{cccc|c}\n",
    "a_{11}^{(1)} &0 &\\cdots &0 &a_{1,n+1}^{(1)} \\\\\n",
    "0 &a_{22}^{(2)} &\\ddots &\\vdots &a_{2,n+1}^{(2)} \\\\\n",
    "\\vdots &\\ddots &\\ddots &0 &\\vdots \\\\ \n",
    "0 &\\cdots &0 &a_{nn}^{(n)}&a_{n,n+1}^{(n)}\n",
    "\\end{array}\\right],$$ the solution is obtained by setting $$x_i=\\frac{a_{i,n+1}^{(i)}}{a_{ii}^{(i)}},$$ for each $i=1,2,...,n.$ This procedure circumvents the backward substitution in the Gaussian\n",
    "elimination. Construct an algorithm for the Gauss-Jordan procedure patterned after that of\n",
    "Algorithm 6.1."
   ]
  },
  {
   "cell_type": "code",
   "execution_count": null,
   "metadata": {},
   "outputs": [],
   "source": []
  },
  {
   "cell_type": "markdown",
   "metadata": {},
   "source": [
    "6.2: 1bc, 3, 7, 10bc, 12 pg.401"
   ]
  },
  {
   "cell_type": "markdown",
   "metadata": {},
   "source": [
    "1\\. Find the row interchanges that are required to solve the following linear systems using Algorithm 6.1."
   ]
  },
  {
   "cell_type": "markdown",
   "metadata": {},
   "source": [
    "$\\;\\;\\;\\;$ b. $x_1+x_2-x_3=1,\\\\x_1+x_2+4x_3=2,\\\\2x_1-x_2+2x_3=3.$"
   ]
  },
  {
   "cell_type": "code",
   "execution_count": null,
   "metadata": {},
   "outputs": [],
   "source": []
  },
  {
   "cell_type": "markdown",
   "metadata": {},
   "source": [
    "$\\;\\;\\;\\;$ c. $2x_1-3x_2+2x_3=5,\\\\-4x_1+2x_2-6x_3=14,\\\\2x_1+2x_2+4x_3=8.$"
   ]
  },
  {
   "cell_type": "code",
   "execution_count": null,
   "metadata": {},
   "outputs": [],
   "source": []
  },
  {
   "cell_type": "markdown",
   "metadata": {},
   "source": [
    "3\\. Repeat Exercise 1 using Algorithm 6.2."
   ]
  },
  {
   "cell_type": "markdown",
   "metadata": {},
   "source": [
    "$\\;\\;\\;\\;$ b. $x_1+x_2-x_3=1,\\\\x_1+x_2+4x_3=2,\\\\2x_1-x_2+2x_3=3.$"
   ]
  },
  {
   "cell_type": "code",
   "execution_count": null,
   "metadata": {},
   "outputs": [],
   "source": []
  },
  {
   "cell_type": "markdown",
   "metadata": {},
   "source": [
    "$\\;\\;\\;\\;$ c. $2x_1-3x_2+2x_3=5,\\\\-4x_1+2x_2-6x_3=14,\\\\2x_1+2x_2+4x_3=8.$"
   ]
  },
  {
   "cell_type": "code",
   "execution_count": null,
   "metadata": {},
   "outputs": [],
   "source": []
  },
  {
   "cell_type": "markdown",
   "metadata": {},
   "source": [
    "7\\. Repeat Exercise 1 using complete pivoting."
   ]
  },
  {
   "cell_type": "markdown",
   "metadata": {},
   "source": [
    "$\\;\\;\\;\\;$ b. $x_1+x_2-x_3=1,\\\\x_1+x_2+4x_3=2,\\\\2x_1-x_2+2x_3=3.$"
   ]
  },
  {
   "cell_type": "code",
   "execution_count": null,
   "metadata": {},
   "outputs": [],
   "source": []
  },
  {
   "cell_type": "markdown",
   "metadata": {},
   "source": [
    "$\\;\\;\\;\\;$ c. $2x_1-3x_2+2x_3=5,\\\\-4x_1+2x_2-6x_3=14,\\\\2x_1+2x_2+4x_3=8.$"
   ]
  },
  {
   "cell_type": "code",
   "execution_count": null,
   "metadata": {},
   "outputs": [],
   "source": []
  },
  {
   "cell_type": "markdown",
   "metadata": {},
   "source": [
    "10\\. Use Gaussian elimination and three-digit chopping arithmetic to solve the following linear systems\n",
    "and compare the approximations to the actual solution."
   ]
  },
  {
   "cell_type": "markdown",
   "metadata": {},
   "source": [
    "$\\;\\;\\;\\;$ b. $3.3330x_1+15920x_2+10.333x_3=7953,\\\\2.2220x_1+16.710x_2+9.6120x_3=0.965,\\\\-1.5611x_1+5.1792x_2-1.6855x_3=2.714.$\n",
    "\n",
    "Actutal solution $[1,0.5,-1]$."
   ]
  },
  {
   "cell_type": "code",
   "execution_count": null,
   "metadata": {},
   "outputs": [],
   "source": []
  },
  {
   "cell_type": "markdown",
   "metadata": {},
   "source": [
    "$\\;\\;\\;\\;$ c. $\\pi x_1 +\\sqrt{2}x_2-x_3 + x_4 =0,\\\\ ex_1-x_2 + x_3 + 2x_4 =1,\\\\ x_1+x_2-\\sqrt{3}x_3+x_4=2,\\\\ -x_1-x_2 + x_3 -\\sqrt{5}x_4 = 3.$ \n",
    "\n",
    "Actual solution $[1.35,-4.68,-4.03,-1.66].$"
   ]
  },
  {
   "cell_type": "code",
   "execution_count": null,
   "metadata": {},
   "outputs": [],
   "source": []
  },
  {
   "cell_type": "markdown",
   "metadata": {},
   "source": [
    "12\\. Repeat Exercise 10 using three-digit rounding arithmetic."
   ]
  },
  {
   "cell_type": "markdown",
   "metadata": {},
   "source": [
    "$\\;\\;\\;\\;$ b. $3.3330x_1+15920x_2+10.333x_3=7953,\\\\2.2220x_1+16.710x_2+9.6120x_3=0.965,\\\\-1.5611x_1+5.1792x_2-1.6855x_3=2.714.$\n",
    "\n",
    "Actutal solution $[1,0.5,-1]$."
   ]
  },
  {
   "cell_type": "code",
   "execution_count": null,
   "metadata": {},
   "outputs": [],
   "source": []
  },
  {
   "cell_type": "markdown",
   "metadata": {},
   "source": [
    "$\\;\\;\\;\\;$ c. $\\pi x_1 +\\sqrt{2}x_2-x_3 + x_4 =0,\\\\ ex_1-x_2 + x_3 + 2x_4 =1,\\\\ x_1+x_2-\\sqrt{3}x_3+x_4=2,\\\\ -x_1-x_2 + x_3 -\\sqrt{5}x_4 = 3.$ \n",
    "\n",
    "Actual solution $[1.35,-4.68,-4.03,-1.66].$"
   ]
  },
  {
   "cell_type": "code",
   "execution_count": null,
   "metadata": {},
   "outputs": [],
   "source": []
  }
 ],
 "metadata": {
  "kernelspec": {
   "display_name": "Python 3",
   "language": "python",
   "name": "python3"
  },
  "language_info": {
   "codemirror_mode": {
    "name": "ipython",
    "version": 3
   },
   "file_extension": ".py",
   "mimetype": "text/x-python",
   "name": "python",
   "nbconvert_exporter": "python",
   "pygments_lexer": "ipython3",
   "version": "3.6.8"
  }
 },
 "nbformat": 4,
 "nbformat_minor": 2
}
