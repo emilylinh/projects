{
 "cells": [
  {
   "cell_type": "markdown",
   "metadata": {},
   "source": [
    "## <center> MATH 104B - Homework 1 \n",
    "#### <center>By Emily Lu "
   ]
  },
  {
   "cell_type": "markdown",
   "metadata": {},
   "source": [
    "(Section 4.1)"
   ]
  },
  {
   "cell_type": "markdown",
   "metadata": {},
   "source": [
    "2\\. Use the forward-difference formulas and backward-difference formulas to determine each missing\n",
    "entry in the following tables."
   ]
  },
  {
   "cell_type": "markdown",
   "metadata": {},
   "source": [
    "$\\;\\;\\;\\;$ a. \n",
    "\n",
    "$x$ | $f(x)$ | $f'(x)$| \n",
    "--- | ------ | ------ |\n",
    "-0.3 | 1.9507 | $\\;\\;$ |\n",
    "-0.2 | 2.0421 | $\\;\\;$ |\n",
    "-0.1 | 2.0601 | $\\;\\;$ |\n"
   ]
  },
  {
   "cell_type": "code",
   "execution_count": 6,
   "metadata": {},
   "outputs": [
    {
     "name": "stdout",
     "output_type": "stream",
     "text": [
      "By forward-difference, f'(-0.3) = 0.9139999999999993\n",
      "By backward-difference, f'(-0.2) = 0.9139999999999993\n",
      "By forward-difference, f'(-0.2) = 0.17999999999999794\n",
      "By backward-difference, f'(-0.1) = 0.17999999999999794\n"
     ]
    }
   ],
   "source": [
    "def diff(fx, fxh, h):\n",
    "    return (fxh - fx)/h \n",
    "\n",
    "print(\"By forward-difference, f'(-0.3) =\", diff(1.9507, 2.0421, 0.1))\n",
    "print(\"By backward-difference, f'(-0.2) =\", diff(1.9507, 2.0421, 0.1))\n",
    "print(\"By forward-difference, f'(-0.2) =\", diff(2.0421, 2.0601, 0.1))\n",
    "print(\"By backward-difference, f'(-0.1) =\", diff(2.0421, 2.0601, 0.1))"
   ]
  },
  {
   "cell_type": "markdown",
   "metadata": {},
   "source": [
    "$\\;\\;\\;\\;$ b. \n",
    "\n",
    "$x$ | $f(x)$ | $f'(x)$| \n",
    "--- | ------ | ------ |\n",
    "1.0 | 1.0000 | $\\;\\;$ |\n",
    "1.2 | 1.2625 | $\\;\\;$ |\n",
    "1.4 | 1.6595 | $\\;\\;$ |\n"
   ]
  },
  {
   "cell_type": "code",
   "execution_count": 7,
   "metadata": {},
   "outputs": [
    {
     "name": "stdout",
     "output_type": "stream",
     "text": [
      "By forward-difference, f'(1.0) = 1.3124999999999998\n",
      "By backward-difference, f'(1.2) = 1.3124999999999998\n",
      "By forward-difference, f'(1.2) = 1.985\n",
      "By backward-difference, f'(1.4) = 1.985\n"
     ]
    }
   ],
   "source": [
    "print(\"By forward-difference, f'(1.0) =\", diff(1.0000, 1.2625, 0.2))\n",
    "print(\"By backward-difference, f'(1.2) =\", diff(1.0000, 1.2625, 0.2))\n",
    "print(\"By forward-difference, f'(1.2) =\", diff(1.2625, 1.6595, 0.2))\n",
    "print(\"By backward-difference, f'(1.4) =\", diff(1.2625, 1.6595, 0.2))"
   ]
  },
  {
   "cell_type": "markdown",
   "metadata": {},
   "source": [
    "4\\. The data in Exercise 2 were taken from the following functions. Compute the actual errors in Exercise 2\n",
    "and find error bounds using the error formulas."
   ]
  },
  {
   "cell_type": "markdown",
   "metadata": {},
   "source": [
    "$\\;\\;\\;\\;$ a. $f(x) = 2 \\cos(2x) - x$"
   ]
  },
  {
   "cell_type": "code",
   "execution_count": 12,
   "metadata": {},
   "outputs": [
    {
     "name": "stdout",
     "output_type": "stream",
     "text": [
      "For f'(-0.3), actual error is 0.34456989358014223 and error bound is 0.3684243976011541.\n",
      "For f'(-0.2) and its backward-difference approx., actual error is 0.35632663076539717 and error bound is 0.3684243976011541.\n",
      "For f'(-0.2) and its forward-difference approx., actual error is 0.37767336923460415 and error bound is 0.39202663113649666.\n",
      "For f'(-0.1), actual error is 0.3853226768197531 and error bound is 0.39202663113649666.\n"
     ]
    }
   ],
   "source": [
    "from math import* \n",
    "\n",
    "def errBound(h, x0):\n",
    "    return abs(h)/2*max(abs(f2(x0)), abs(f2(x0+h)))\n",
    "\n",
    "f1 = lambda x: -4*sin(2*x) - 1\n",
    "f2 = lambda x: -8*cos(2*x) \n",
    "\n",
    "print(\"For f'(-0.3), actual error is\", abs(f1(-0.3)-diff(1.9507, 2.0421, 0.1)),\n",
    "      'and error bound is', str(errBound(0.1, -0.3))+'.')\n",
    "print(\"For f'(-0.2) and its backward-difference approx., actual error is\", abs(f1(-0.2)-diff(1.9507, 2.0421, 0.1)), \n",
    "      'and error bound is', str(errBound(-0.1, -0.2))+'.')\n",
    "print(\"For f'(-0.2) and its forward-difference approx., actual error is\", abs(f1(-0.2)-diff(2.0421, 2.0601, 0.1)), \n",
    "      'and error bound is', str(errBound(0.1, -0.2))+'.')\n",
    "print(\"For f'(-0.1), actual error is\", abs(f1(-0.1)-diff(2.0421, 2.0601, 0.1)), \n",
    "      'and error bound is', str(errBound(-0.1, -0.1))+'.')"
   ]
  },
  {
   "cell_type": "markdown",
   "metadata": {},
   "source": [
    "$\\;\\;\\;\\;$ b. $f(x) = x^2\\ln(x) + 1$"
   ]
  },
  {
   "cell_type": "code",
   "execution_count": 13,
   "metadata": {},
   "outputs": [
    {
     "name": "stdout",
     "output_type": "stream",
     "text": [
      "For f'(1.0), actual error is 0.3124999999999998 and error bound is 0.33646431135879096.\n",
      "For f'(1.2) and its backward-difference approx., actual error is 0.32507173630549113 and error bound is 0.33646431135879096.\n",
      "For f'(1.2) and its forward-difference approx., actual error is 0.3474282636945092 and error bound is 0.3672944473242426.\n",
      "For f'(1.4), actual error is 0.3571222625393957 and error bound is 0.3672944473242426.\n"
     ]
    }
   ],
   "source": [
    "f1 = lambda x: 2*x*log(x) + x \n",
    "f2 = lambda x: 2*log(x) + 3\n",
    "\n",
    "print(\"For f'(1.0), actual error is\", abs(f1(1.0)-diff(1.0000, 1.2625, 0.2)),\n",
    "      'and error bound is', str(errBound(0.2, 1.0))+'.')\n",
    "print(\"For f'(1.2) and its backward-difference approx., actual error is\", abs(f1(1.2)-diff(1.0000, 1.2625, 0.2)), \n",
    "      'and error bound is', str(errBound(-0.2, 1.2))+'.')\n",
    "print(\"For f'(1.2) and its forward-difference approx., actual error is\", abs(f1(1.2)-diff(1.2625, 1.6595, 0.2)), \n",
    "      'and error bound is', str(errBound(0.2, 1.2))+'.')\n",
    "print(\"For f'(1.4), actual error is\", abs(f1(1.4)-diff(1.2625, 1.6595, 0.2)), \n",
    "      'and error bound is', str(errBound(-0.2, 1.4))+'.')"
   ]
  },
  {
   "cell_type": "markdown",
   "metadata": {},
   "source": [
    "6\\. Use the most accurate three-point formula to determine each missing entry in the following tables."
   ]
  },
  {
   "cell_type": "markdown",
   "metadata": {},
   "source": [
    "$\\;\\;\\;\\;$ b. \n",
    "\n",
    "$x$ | $f(x)$ | $f'(x)$| \n",
    "--- | ------ | ------ |\n",
    "7.4 | -68.3193 | $\\;\\;$ |\n",
    "7.6 | -71.6982 | $\\;\\;$ |\n",
    "7.8 | -75.1576 | $\\;\\;$ |\n",
    "8.0 | -78.6974 | $\\;\\;$ |"
   ]
  },
  {
   "cell_type": "code",
   "execution_count": 14,
   "metadata": {},
   "outputs": [
    {
     "name": "stdout",
     "output_type": "stream",
     "text": [
      "f'(7.4) = -16.693250000000006\n",
      "f'(7.6) = -17.09575000000001\n",
      "f'(7.8) = -17.498000000000005\n",
      "f'(8.0) = -17.899999999999956\n"
     ]
    }
   ],
   "source": [
    "def which3pt(h, fx, fxh, fx2h = None, nfxh = None):\n",
    "    if fx2h != None:\n",
    "        endpt = 1/(2*h)*(-3*fx + 4*fxh - fx2h)\n",
    "        return endpt\n",
    "    else:\n",
    "        midpt = 1/(2*h)*(fxh - nfxh)\n",
    "        return midpt \n",
    "    \n",
    "print(\"f'(7.4) =\", which3pt(0.2, -68.3193, -71.6982, fx2h = -75.1576))\n",
    "print(\"f'(7.6) =\", which3pt(0.2, -71.6982, -75.1576, nfxh = -68.3193))\n",
    "print(\"f'(7.8) =\", which3pt(0.2, -75.1576, -78.6974, nfxh = -71.6982))\n",
    "print(\"f'(8.0) =\", which3pt(-0.2, -78.6974, -75.1576, fx2h = -71.6982))"
   ]
  },
  {
   "cell_type": "markdown",
   "metadata": {},
   "source": [
    "$\\;\\;\\;\\;$ c. \n",
    "\n",
    "$x$ | $f(x)$ | $f'(x)$| \n",
    "--- | ------ | ------ |\n",
    "1.1 | 1.52918 | $\\;\\;$ |\n",
    "1.2 | 1.64024 | $\\;\\;$ |\n",
    "1.3 | 1.70470 | $\\;\\;$ |\n",
    "1.4 | 1.71277 | $\\;\\;$ |"
   ]
  },
  {
   "cell_type": "code",
   "execution_count": 15,
   "metadata": {},
   "outputs": [
    {
     "name": "stdout",
     "output_type": "stream",
     "text": [
      "f'(1.1) = 1.3435999999999992\n",
      "f'(1.2) = 0.8776000000000006\n",
      "f'(1.3) = 0.3626499999999999\n",
      "f'(1.4) = -0.20125000000000393\n"
     ]
    }
   ],
   "source": [
    "print(\"f'(1.1) =\", which3pt(0.1, 1.52918, 1.64024, fx2h = 1.70470))\n",
    "print(\"f'(1.2) =\", which3pt(0.1, 1.64024, 1.70470, nfxh = 1.52918))\n",
    "print(\"f'(1.3) =\", which3pt(0.1, 1.70470, 1.71277, nfxh = 1.64024))\n",
    "print(\"f'(1.4) =\", which3pt(-0.1, 1.71277, 1.70470, fx2h = 1.64024))"
   ]
  },
  {
   "cell_type": "markdown",
   "metadata": {},
   "source": [
    "8\\. The data in Exercise 6 were taken from the following functions. Compute the actual errors in Exercise\n",
    "6 and find error bounds using the error formulas."
   ]
  },
  {
   "cell_type": "markdown",
   "metadata": {},
   "source": [
    "$\\;\\;\\;\\;$ b. $f(x) = ln(x+2) - (x+1)^2$"
   ]
  },
  {
   "cell_type": "code",
   "execution_count": 51,
   "metadata": {},
   "outputs": [
    {
     "name": "stdout",
     "output_type": "stream",
     "text": [
      "For f'(7.4), actual error is 0.00036702127659182793 and error bound is 3.210592386401215e-05.\n",
      "For f'(7.6), actual error is 8.333333332188886e-05 and error bound is 1.6052961932006087e-05.\n",
      "For f'(7.8), actual error is 4.081632653551992e-05 and error bound is 1.507040895061729e-05.\n",
      "For f'(8.0), actual error is 4.263256414560601e-14 and error bound is 3.014081790123458e-05.\n"
     ]
    }
   ],
   "source": [
    "f1 = lambda x: 1/(x+2) - 2*(x+1)\n",
    "f2 = lambda x: -1/((x+2)**2) - 2\n",
    "f3 = lambda x: 2/((x+2)**3)\n",
    "\n",
    "def errBound3(h, x0, which):\n",
    "    if which == \"e\":\n",
    "        return h**2/3*max(abs(f3(x0)), abs(f3(x0+2*h)))\n",
    "    else:\n",
    "        return h**2/6*max(abs(f3(x0-h)), abs(f3(x0+h)))\n",
    "    \n",
    "\n",
    "            \n",
    "print(\"For f'(7.4), actual error is\", abs(f1(7.4)-which3pt(0.2, -68.3193, -71.6982, fx2h = -75.1576)),\n",
    "      'and error bound is', str(errBound3(0.2, 7.4, 'e'))+'.')\n",
    "print(\"For f'(7.6), actual error is\", abs(f1(7.6)-which3pt(0.2, -71.6982, -75.1576, nfxh = -68.3193)), \n",
    "      'and error bound is', str(errBound3(0.2, 7.6, 'm'))+'.')\n",
    "print(\"For f'(7.8), actual error is\", abs(f1(7.8)-which3pt(0.2, -75.1576, -78.6974, nfxh = -71.6982)), \n",
    "      'and error bound is', str(errBound3(0.2, 7.8, 'm'))+'.')\n",
    "print(\"For f'(8.0), actual error is\", abs(f1(8.0)-which3pt(-0.2, -78.6974, -75.1576, fx2h = -71.6982)), \n",
    "      'and error bound is', str(errBound3(-0.2, 8.0, 'e'))+'.')"
   ]
  },
  {
   "cell_type": "markdown",
   "metadata": {},
   "source": [
    "$\\;\\;\\;\\;$ c. $f(x) = x\\sin x + x^2 \\cos x$"
   ]
  },
  {
   "cell_type": "code",
   "execution_count": 52,
   "metadata": {},
   "outputs": [
    {
     "name": "stdout",
     "output_type": "stream",
     "text": [
      "For f'(1.1), actual error is 0.03388634490849585 and error bound is 0.034783984899518436.\n",
      "For f'(1.2), actual error is 0.016790718290445206 and error bound is 0.017391992449759218.\n",
      "For f'(1.3), actual error is 0.015740283698027602 and error bound is 0.016816701045860485.\n",
      "For f'(1.4), actual error is 0.030919740607905366 and error bound is 0.03363340209172097.\n"
     ]
    }
   ],
   "source": [
    "f1 = lambda x: sin(x) + 3*x*cos(x) - x**2*sin(x)\n",
    "f2 = lambda x: 4*cos(x) - 5*x*sin(x) - x**2*cos(x)\n",
    "f3 = lambda x: -9*sin(x) - 7*x*cos(x) + x**2*sin(x)\n",
    "\n",
    "\n",
    "print(\"For f'(1.1), actual error is\", abs(f1(1.1)-which3pt(0.1, 1.52918, 1.64024, fx2h = 1.70470)),\n",
    "      'and error bound is', str(errBound3(0.1, 1.1, 'e'))+'.')\n",
    "print(\"For f'(1.2), actual error is\", abs(f1(1.2)-which3pt(0.1, 1.64024, 1.70470, nfxh = 1.52918)), \n",
    "      'and error bound is', str(errBound3(0.1, 1.2, 'm'))+'.')\n",
    "print(\"For f'(1.3), actual error is\", abs(f1(1.3)-which3pt(0.1, 1.70470, 1.71277, nfxh = 1.64024)), \n",
    "      'and error bound is', str(errBound3(0.1, 1.3, 'm'))+'.')\n",
    "print(\"For f'(1.4), actual error is\", abs(f1(1.4)-which3pt(-0.1, 1.71277, 1.70470, fx2h = 1.64024)), \n",
    "      'and error bound is', str(errBound3(-0.1, 1.4, 'e'))+'.')"
   ]
  },
  {
   "cell_type": "markdown",
   "metadata": {},
   "source": [
    "23\\. In Exercise 9 of Section 3.4, data were given describing a car traveling on a straight road. That problem\n",
    "asked to predict the position and speed of the car when $t = 10$ seconds. Use the following times and\n",
    "positions to predict the speed at each time listed.\n",
    "\n",
    "\n",
    "$\\;$ | $\\;$ | $\\;$ | $\\;$ | $\\;$ |  $\\;$ |  $\\;$ |  \n",
    "--- | ------ | ------- |  ------ | ------- |  ------- |  ------- |\n",
    "Time | 0 | 3 | 5 | 8 | 10 | 13 |\n",
    "Distance | 0 | 225 | 383 | 623 | 742 | 993 |"
   ]
  },
  {
   "cell_type": "markdown",
   "metadata": {},
   "source": [
    "$\\;\\;\\;\\;$ _Sol._ Using the 3-point formulas, we could solve for the predicted speed at each time listed. Note that f'(t) is the speed at time t. "
   ]
  },
  {
   "cell_type": "code",
   "execution_count": 47,
   "metadata": {},
   "outputs": [
    {
     "name": "stdout",
     "output_type": "stream",
     "text": [
      "f'(0) = 79.0\n",
      "f'(3) = 82.4\n",
      "f'(5) = 74.2\n",
      "f'(8) = 76.80000000000001\n",
      "f'(10) = 69.4\n",
      "f'(13) = 71.2\n"
     ]
    }
   ],
   "source": [
    "print(\"f'(0) =\", which3pt(5, 0, 383, fx2h = 742))\n",
    "print(\"f'(3) =\", which3pt(5, 225, 623, fx2h = 993))\n",
    "print(\"f'(5) =\", which3pt(5, 383, 742, nfxh = 0))\n",
    "print(\"f'(8) =\", which3pt(5, 623, 993, nfxh = 225))\n",
    "print(\"f'(10) =\", which3pt(-5, 742, 383, fx2h = 0))\n",
    "print(\"f'(13) =\", which3pt(-5, 993, 623, fx2h = 225))"
   ]
  },
  {
   "cell_type": "markdown",
   "metadata": {},
   "source": [
    "29\\. Consider the function $$e(h) = \\frac{\\varepsilon}{h} + \\frac{h^2}{6}M,$$ where $M$ is the bound for the third derivative of a function. Show that $e(h)$ has a minimum at $\\sqrt[3]{3\\varepsilon/ M}.$"
   ]
  },
  {
   "cell_type": "markdown",
   "metadata": {},
   "source": [
    "$\\;\\;\\;\\;$ _Sol._ Given $e'(h) = -\\frac{\\varepsilon}{h^2} + \\frac{h}{3}M$, $h =\\sqrt[3]{3\\varepsilon/M}$ if and only if $e'(h) = 0$. Since $e'(h) <0$ if $h < \\sqrt[3]{3\\varepsilon/M}$ and $e'(h) >0$ if $h > \\sqrt[3]{3\\varepsilon/M}$ also, then we have that the absolute minimum for $e(h)$ occurs at $h =\\sqrt[3]{3\\varepsilon/M}$. "
   ]
  },
  {
   "cell_type": "markdown",
   "metadata": {},
   "source": [
    "(Section 4.3)"
   ]
  },
  {
   "cell_type": "markdown",
   "metadata": {},
   "source": [
    "1\\. Approximate the following integrals using the Trapezoidal rule."
   ]
  },
  {
   "cell_type": "markdown",
   "metadata": {},
   "source": [
    "$\\;\\;\\;\\;$ b. $\\int_{0}^{0.5} \\frac{2}{x-4} dx$"
   ]
  },
  {
   "cell_type": "code",
   "execution_count": 19,
   "metadata": {},
   "outputs": [
    {
     "name": "stdout",
     "output_type": "stream",
     "text": [
      "The answer to the following integral is -0.26785714285714285.\n"
     ]
    }
   ],
   "source": [
    "def trapezoidal(x0, x1):\n",
    "    h = x1 - x0\n",
    "    return h/2*(f(x0) + f(x1)) \n",
    "\n",
    "f = lambda x: 2/(x-4) \n",
    "\n",
    "print('The answer to the following integral is', str(trapezoidal(0, 0.5))+'.')"
   ]
  },
  {
   "cell_type": "markdown",
   "metadata": {},
   "source": [
    "$\\;\\;\\;\\;$ c. $\\int_{1}^{1.5} x^2 \\ln x dx$"
   ]
  },
  {
   "cell_type": "code",
   "execution_count": 49,
   "metadata": {},
   "outputs": [
    {
     "name": "stdout",
     "output_type": "stream",
     "text": [
      "The answer to the following integral is 0.22807412331084248.\n"
     ]
    }
   ],
   "source": [
    "f = lambda x: x**2 * log(x)\n",
    "\n",
    "print('The answer to the following integral is', str(trapezoidal(1, 1.5))+'.')"
   ]
  },
  {
   "cell_type": "markdown",
   "metadata": {},
   "source": [
    "$\\;\\;\\;\\;$ e. $\\int_{1}^{1.6} \\frac{2x}{x^2-4} dx$"
   ]
  },
  {
   "cell_type": "code",
   "execution_count": 48,
   "metadata": {},
   "outputs": [
    {
     "name": "stdout",
     "output_type": "stream",
     "text": [
      "The answer to the following integral is -0.866666666666667.\n"
     ]
    }
   ],
   "source": [
    "f = lambda x: (2*x)/(x**2 - 4)\n",
    "\n",
    "print('The answer to the following integral is', str(trapezoidal(1, 1.6))+'.')"
   ]
  },
  {
   "cell_type": "markdown",
   "metadata": {},
   "source": [
    "3\\. Find a bound for the error in Exercise 1 using the error formula and compare this to the actual error."
   ]
  },
  {
   "cell_type": "markdown",
   "metadata": {},
   "source": [
    "$\\;\\;\\;\\;$ b. $\\int_{0}^{0.5} \\frac{2}{x-4} dx$"
   ]
  },
  {
   "cell_type": "code",
   "execution_count": 41,
   "metadata": {},
   "outputs": [
    {
     "name": "stdout",
     "output_type": "stream",
     "text": [
      "Error bound is 0.0009718172983479105 and actual error is 0.0007943576080975956.\n"
     ]
    }
   ],
   "source": [
    "import scipy.integrate as integrate\n",
    "\n",
    "def errBoundT(x0, x1):\n",
    "    h = x1 - x0\n",
    "    return ((h**3)/12)*max(abs(f2(x0)), abs(f2(x1)))\n",
    "\n",
    "f = lambda x: 2/(x-4)\n",
    "f1 = lambda x: -2/((x-4)**2)\n",
    "f2 = lambda x: 4/((x-4)**3)\n",
    "\n",
    "print('Error bound is', errBoundT(0, 0.5), 'and actual error is', \n",
    "      str(abs(integrate.quad(f, 0, 0.5)[0] - trapezoidal(0, 0.5)))+'.')"
   ]
  },
  {
   "cell_type": "markdown",
   "metadata": {},
   "source": [
    "$\\;\\;\\;\\;$ c. $\\int_{1}^{1.5} x^2 \\ln x dx$"
   ]
  },
  {
   "cell_type": "code",
   "execution_count": 42,
   "metadata": {},
   "outputs": [
    {
     "name": "stdout",
     "output_type": "stream",
     "text": [
      "Error bound is 0.03969718975225342 and actual error is 0.03581476557804644.\n"
     ]
    }
   ],
   "source": [
    "f = lambda x: x**2*log(x)\n",
    "f1 = lambda x: 2*x*log(x) + x\n",
    "f2 = lambda x: 2*log(x) + 3\n",
    "\n",
    "print('Error bound is', errBoundT(1, 1.5), 'and actual error is', \n",
    "      str(abs(integrate.quad(f, 1, 1.5)[0] - trapezoidal(1, 1.5)))+'.')"
   ]
  },
  {
   "cell_type": "markdown",
   "metadata": {},
   "source": [
    "5\\. Repeat Exercise 1 using Simpson's rule."
   ]
  },
  {
   "cell_type": "markdown",
   "metadata": {},
   "source": [
    "$\\;\\;\\;\\;$ b. $\\int_{0}^{0.5} \\frac{2}{x-4} dx$"
   ]
  },
  {
   "cell_type": "code",
   "execution_count": 43,
   "metadata": {},
   "outputs": [
    {
     "name": "stdout",
     "output_type": "stream",
     "text": [
      "The answer to the following integral is -0.26706349206349206.\n"
     ]
    }
   ],
   "source": [
    "def simps(x0, x2):\n",
    "    h = (x2 - x0)/2\n",
    "    x1 = x0 + h \n",
    "    return h/3*(f(x0) + 4*f(x1) + f(x2))\n",
    "\n",
    "f = lambda x: 2/(x-4)\n",
    "\n",
    "print('The answer to the following integral is', str(simps(0, 0.5))+'.')"
   ]
  },
  {
   "cell_type": "markdown",
   "metadata": {},
   "source": [
    "$\\;\\;\\;\\;$ c. $\\int_{1}^{1.5} x^2 \\ln x dx$"
   ]
  },
  {
   "cell_type": "code",
   "execution_count": 27,
   "metadata": {},
   "outputs": [
    {
     "name": "stdout",
     "output_type": "stream",
     "text": [
      "The answer to the following integral is 0.19224530741309842.\n"
     ]
    }
   ],
   "source": [
    "f = lambda x: x**2*log(x)\n",
    "\n",
    "print('The answer to the following integral is', str(simps(1, 1.5))+'.')"
   ]
  },
  {
   "cell_type": "markdown",
   "metadata": {},
   "source": [
    "15\\. Approximate the following integrals using formulas (4.25) through (4.32). Are the accuracies of the\n",
    "approximations consistent with the error formulas?"
   ]
  },
  {
   "cell_type": "markdown",
   "metadata": {},
   "source": [
    "$\\;\\;\\;\\;$ b. $\\int_0^{\\pi/2} (\\sin x)^2 dx$"
   ]
  },
  {
   "cell_type": "code",
   "execution_count": 45,
   "metadata": {},
   "outputs": [
    {
     "name": "stdout",
     "output_type": "stream",
     "text": [
      "The approximations using formulas 4.25-4.32, respectively, are 0.7853982, 0.7853982, 0.7853982, 0.7853982, 0.7853982, 0.7853982, 0.7853982, 0.7853982.\n",
      "\n",
      "The errors of the approximations using formulas 4.25-4.32, respectively, are 3.660255176729521e-08, 3.660255176729521e-08, 3.660255176729521e-08, 3.660255176729521e-08, 3.660255176729521e-08, 3.660255176729521e-08, 3.660255176729521e-08, 3.660255176729521e-08.\n",
      "\n",
      "Based on the errors above, we could conclude the accuracies of the approximations are consistent with the error formulas.\n"
     ]
    }
   ],
   "source": [
    "def f427(x0, x3):\n",
    "    h = (x3 - x0)/3\n",
    "    return round(3*h/8*(f(x0)+3*f(x0+h)+3*f(x3-h)+f(x3)), 7)\n",
    "\n",
    "def f428(x0, x4):\n",
    "    h = (x4 - x0)/4\n",
    "    return round(2*h/45*(7*f(x0)+32*f(x0+h)+12*f(x0+2*h)+32*f(x4-h)+7*f(x4)), 7)\n",
    "\n",
    "def f429(nx1, x1):\n",
    "    h = (x1-nx1)/2\n",
    "    return round(2*h*f(nx1+h), 7)\n",
    "\n",
    "def f430(nx1, x2):\n",
    "    h = (x2 - nx1)/3 \n",
    "    return round(3*h/2*(f(nx1+h) + f(x2-h)), 7)\n",
    "\n",
    "def f431(nx1, x3):\n",
    "    h = (x3 - nx1)/4\n",
    "    return round(4*h/3*(2*f(nx1+h)-f(nx1+2*h)+2*f(x3-h)), 7)\n",
    "\n",
    "def f432(nx1, x4):\n",
    "    h = (x4 - nx1)/5\n",
    "    return round(5*h/24*(11*f(nx1+h)+f(nx1+2*h)+f(x4-2*h)+11*f(x4-h)), 7)\n",
    "\n",
    "f = lambda x: (sin(x))**2\n",
    "actual = integrate.quad(f, 0, pi/2)[0]\n",
    "\n",
    "print('The approximations using formulas 4.25-4.32, respectively, are', \n",
    "     str(round(trapezoidal(0, pi/2), 7))+',', str(round(simps(0, pi/2), 7))+',', \n",
    "      str(f427(0, pi/2))+',', str(f428(0, pi/2))+',', str(f429(0, pi/2))+',', \n",
    "      str(f430(0, pi/2))+',', str(f431(0, pi/2))+',', str(f432(0, pi/2))+'.')\n",
    "\n",
    "print('\\nThe errors of the approximations using formulas 4.25-4.32, respectively, are', \n",
    "     str(abs(actual-round(trapezoidal(0, pi/2), 7)))+',', str(abs(actual-round(simps(0, pi/2), 7)))+',', \n",
    "      str(abs(actual-f427(0, pi/2)))+',', str(abs(actual-f428(0, pi/2)))+',', str(abs(actual-f429(0, pi/2)))+',', \n",
    "      str(abs(actual-f430(0, pi/2)))+',', str(abs(actual-f431(0, pi/2)))+',', str(abs(actual-f432(0, pi/2)))+'.')\n",
    "\n",
    "print('\\nBased on the errors above, we could conclude the accuracies of the approximations are consistent with the error formulas.')"
   ]
  },
  {
   "cell_type": "markdown",
   "metadata": {},
   "source": [
    "$\\;\\;\\;\\;$ c. $\\int_{1.1}^{1.5} e^x dx$"
   ]
  },
  {
   "cell_type": "code",
   "execution_count": 53,
   "metadata": {},
   "outputs": [
    {
     "name": "stdout",
     "output_type": "stream",
     "text": [
      "The approximations using formulas 4.25-4.32, respectively, are 1.497171, 1.4775361, 1.4775289, 1.477523, 1.4677187, 1.4709815, 1.4775116, 1.4775151.\n",
      "\n",
      "The errors of the approximations using formulas 4.25-4.32, respectively, are 0.019647953608368685, 1.3053608368673864e-05, 5.853608368688867e-06, 4.639163142527991e-08, 0.009804346391631302, 0.006541546391631403, 1.1446391631420028e-05, 7.946391631374894e-06.\n",
      "\n",
      "Based on the errors above, we could conclude the accuracies of the approximations are consistent with the error formulas.\n"
     ]
    }
   ],
   "source": [
    "f = lambda x: e**x\n",
    "actual = integrate.quad(f, 1.1, 1.5)[0]\n",
    "\n",
    "print('The approximations using formulas 4.25-4.32, respectively, are', \n",
    "     str(round(trapezoidal(1.1, 1.5), 7))+',', str(round(simps(1.1, 1.5), 7))+',', \n",
    "      str(f427(1.1, 1.5))+',', str(f428(1.1, 1.5))+',', str(f429(1.1, 1.5))+',', \n",
    "      str(f430(1.1, 1.5))+',', str(f431(1.1, 1.5))+',', str(f432(1.1, 1.5))+'.')\n",
    "\n",
    "print('\\nThe errors of the approximations using formulas 4.25-4.32, respectively, are', \n",
    "     str(abs(actual-round(trapezoidal(1.1, 1.5), 7)))+',', str(abs(actual-round(simps(1.1, 1.5), 7)))+',', \n",
    "      str(abs(actual-f427(1.1, 1.5)))+',', str(abs(actual-f428(1.1, 1.5)))+',', str(abs(actual-f429(1.1, 1.5)))+',', \n",
    "      str(abs(actual-f430(1.1, 1.5)))+',', str(abs(actual-f431(1.1, 1.5)))+',', str(abs(actual-f432(1.1, 1.5)))+'.')\n",
    "\n",
    "print('\\nBased on the errors above, we could conclude the accuracies of the approximations are consistent with the error formulas.')"
   ]
  }
 ],
 "metadata": {
  "kernelspec": {
   "display_name": "Python 3",
   "language": "python",
   "name": "python3"
  },
  "language_info": {
   "codemirror_mode": {
    "name": "ipython",
    "version": 3
   },
   "file_extension": ".py",
   "mimetype": "text/x-python",
   "name": "python",
   "nbconvert_exporter": "python",
   "pygments_lexer": "ipython3",
   "version": "3.6.8"
  }
 },
 "nbformat": 4,
 "nbformat_minor": 2
}
